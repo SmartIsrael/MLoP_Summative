{
 "cells": [
  {
   "cell_type": "markdown",
   "id": "37BV7-CMEbMj",
   "metadata": {
    "id": "37BV7-CMEbMj"
   },
   "source": [
    "# Project Title: Diabetes Health Indicators Analysis\n",
    "\n",
    "## Student Name: Smart Israel \n",
    "\n",
    "\n",
    "\n",
    "---\n",
    "\n",
    "# 1. **Data Sources and Aggregation:**\n",
    "   - List all sources of data for the project. **You must consider sources outside kaggle, google datasets** (insert links where necessary to online platforms,research papers etc)\n",
    "\n",
    "   **Data Sources:**\n",
    "\n",
    "  * CDC Diabetes Health Indicators Dataset: https://archive.ics.uci.edu/dataset/891/cdc+diabetes+health+indicators\n",
    "  * Kaggle Dataset: Diabetes Health Indicators\n",
    "  * Repository_url: https://archive.ics.uci.edu/dataset/891/cdc+diabetes+health+indicators,\n",
    "  * Data_url: https://archive.ics.uci.edu/static/public/891/data.csv\n",
    "  * There is as well a python library created for the data for easy import and use\n",
    "\n",
    "  **Data agrregation:**\n",
    "\n",
    "  * Aggregation from multiple sources is not necessary for this dataset as it provides comprehensive information relevant to diabetes health indicators.\n",
    "   \n",
    "\n",
    "\n",
    "\n",
    "\n"
   ]
  },
  {
   "cell_type": "code",
   "execution_count": null,
   "id": "K6W_BkY6FGRL",
   "metadata": {
    "colab": {
     "base_uri": "https://localhost:8080/"
    },
    "id": "K6W_BkY6FGRL",
    "outputId": "d7433175-7829-4054-ee53-4cbb397609d0"
   },
   "outputs": [
    {
     "name": "stdout",
     "output_type": "stream",
     "text": [
      "Collecting ucimlrepo\n",
      "  Downloading ucimlrepo-0.0.7-py3-none-any.whl.metadata (5.5 kB)\n",
      "Requirement already satisfied: pandas>=1.0.0 in /usr/local/lib/python3.10/dist-packages (from ucimlrepo) (2.1.4)\n",
      "Requirement already satisfied: certifi>=2020.12.5 in /usr/local/lib/python3.10/dist-packages (from ucimlrepo) (2024.7.4)\n",
      "Requirement already satisfied: numpy<2,>=1.22.4 in /usr/local/lib/python3.10/dist-packages (from pandas>=1.0.0->ucimlrepo) (1.26.4)\n",
      "Requirement already satisfied: python-dateutil>=2.8.2 in /usr/local/lib/python3.10/dist-packages (from pandas>=1.0.0->ucimlrepo) (2.8.2)\n",
      "Requirement already satisfied: pytz>=2020.1 in /usr/local/lib/python3.10/dist-packages (from pandas>=1.0.0->ucimlrepo) (2024.1)\n",
      "Requirement already satisfied: tzdata>=2022.1 in /usr/local/lib/python3.10/dist-packages (from pandas>=1.0.0->ucimlrepo) (2024.1)\n",
      "Requirement already satisfied: six>=1.5 in /usr/local/lib/python3.10/dist-packages (from python-dateutil>=2.8.2->pandas>=1.0.0->ucimlrepo) (1.16.0)\n",
      "Downloading ucimlrepo-0.0.7-py3-none-any.whl (8.0 kB)\n",
      "Installing collected packages: ucimlrepo\n",
      "Successfully installed ucimlrepo-0.0.7\n"
     ]
    }
   ],
   "source": [
    "#code if necessary\n",
    "\n",
    "!pip install ucimlrepo"
   ]
  },
  {
   "cell_type": "code",
   "execution_count": null,
   "id": "P9xta0BwEIKC",
   "metadata": {
    "colab": {
     "base_uri": "https://localhost:8080/"
    },
    "id": "P9xta0BwEIKC",
    "outputId": "89a7d6e9-9ed4-4326-df08-05365777561d"
   },
   "outputs": [
    {
     "name": "stdout",
     "output_type": "stream",
     "text": [
      "{'uci_id': 891, 'name': 'CDC Diabetes Health Indicators', 'repository_url': 'https://archive.ics.uci.edu/dataset/891/cdc+diabetes+health+indicators', 'data_url': 'https://archive.ics.uci.edu/static/public/891/data.csv', 'abstract': 'The Diabetes Health Indicators Dataset contains healthcare statistics and lifestyle survey information about people in general along with their diagnosis of diabetes. The 35 features consist of some demographics, lab test results, and answers to survey questions for each patient. The target variable for classification is whether a patient has diabetes, is pre-diabetic, or healthy. ', 'area': 'Health and Medicine', 'tasks': ['Classification'], 'characteristics': ['Tabular', 'Multivariate'], 'num_instances': 253680, 'num_features': 21, 'feature_types': ['Categorical', 'Integer'], 'demographics': ['Sex', 'Age', 'Education Level', 'Income'], 'target_col': ['Diabetes_binary'], 'index_col': ['ID'], 'has_missing_values': 'no', 'missing_values_symbol': None, 'year_of_dataset_creation': 2017, 'last_updated': 'Fri Nov 03 2023', 'dataset_doi': '10.24432/C53919', 'creators': [], 'intro_paper': {'title': 'Incidence of End-Stage Renal Disease Attributed to Diabetes Among Persons with Diagnosed Diabetes — United States and Puerto Rico, 2000–2014', 'authors': 'Nilka Rios Burrows, MPH; Israel Hora, PhD; Linda S. Geiss, MA; Edward W. Gregg, PhD; Ann Albright, PhD', 'published_in': 'Morbidity and Mortality Weekly Report', 'year': 2017, 'url': 'https://www.cdc.gov/mmwr/volumes/66/wr/mm6643a2.htm', 'doi': None}, 'additional_info': {'summary': 'Dataset link: https://www.cdc.gov/brfss/annual_data/annual_2014.html', 'purpose': 'To better understand the relationship between  lifestyle and diabetes in the US', 'funded_by': 'The CDC', 'instances_represent': 'Each row represents a person participating in this study.', 'recommended_data_splits': 'Cross validation or a fixed train-test split could be used.', 'sensitive_data': '- Gender\\n- Income\\n- Education level', 'preprocessing_description': 'Bucketing of age', 'variable_info': '- Diabetes diagnosis\\n- Demographics (race, sex)\\n- Personal information (income, educations)\\n- Health history (drinking, smoking, mental health, physical health)', 'citation': None}, 'external_url': 'https://www.kaggle.com/datasets/alexteboul/diabetes-health-indicators-dataset'}\n",
      "                    name     role     type      demographic  \\\n",
      "0                     ID       ID  Integer             None   \n",
      "1        Diabetes_binary   Target   Binary             None   \n",
      "2                 HighBP  Feature   Binary             None   \n",
      "3               HighChol  Feature   Binary             None   \n",
      "4              CholCheck  Feature   Binary             None   \n",
      "5                    BMI  Feature  Integer             None   \n",
      "6                 Smoker  Feature   Binary             None   \n",
      "7                 Stroke  Feature   Binary             None   \n",
      "8   HeartDiseaseorAttack  Feature   Binary             None   \n",
      "9           PhysActivity  Feature   Binary             None   \n",
      "10                Fruits  Feature   Binary             None   \n",
      "11               Veggies  Feature   Binary             None   \n",
      "12     HvyAlcoholConsump  Feature   Binary             None   \n",
      "13         AnyHealthcare  Feature   Binary             None   \n",
      "14           NoDocbcCost  Feature   Binary             None   \n",
      "15               GenHlth  Feature  Integer             None   \n",
      "16              MentHlth  Feature  Integer             None   \n",
      "17              PhysHlth  Feature  Integer             None   \n",
      "18              DiffWalk  Feature   Binary             None   \n",
      "19                   Sex  Feature   Binary              Sex   \n",
      "20                   Age  Feature  Integer              Age   \n",
      "21             Education  Feature  Integer  Education Level   \n",
      "22                Income  Feature  Integer           Income   \n",
      "\n",
      "                                          description units missing_values  \n",
      "0                                          Patient ID  None             no  \n",
      "1         0 = no diabetes 1 = prediabetes or diabetes  None             no  \n",
      "2                          0 = no high BP 1 = high BP  None             no  \n",
      "3        0 = no high cholesterol 1 = high cholesterol  None             no  \n",
      "4   0 = no cholesterol check in 5 years 1 = yes ch...  None             no  \n",
      "5                                     Body Mass Index  None             no  \n",
      "6   Have you smoked at least 100 cigarettes in you...  None             no  \n",
      "7        (Ever told) you had a stroke. 0 = no 1 = yes  None             no  \n",
      "8   coronary heart disease (CHD) or myocardial inf...  None             no  \n",
      "9   physical activity in past 30 days - not includ...  None             no  \n",
      "10  Consume Fruit 1 or more times per day 0 = no 1...  None             no  \n",
      "11  Consume Vegetables 1 or more times per day 0 =...  None             no  \n",
      "12  Heavy drinkers (adult men having more than 14 ...  None             no  \n",
      "13  Have any kind of health care coverage, includi...  None             no  \n",
      "14  Was there a time in the past 12 months when yo...  None             no  \n",
      "15  Would you say that in general your health is: ...  None             no  \n",
      "16  Now thinking about your mental health, which i...  None             no  \n",
      "17  Now thinking about your physical health, which...  None             no  \n",
      "18  Do you have serious difficulty walking or clim...  None             no  \n",
      "19                                0 = female 1 = male  None             no  \n",
      "20  13-level age category (_AGEG5YR see codebook) ...  None             no  \n",
      "21  Education level (EDUCA see codebook) scale 1-6...  None             no  \n",
      "22  Income scale (INCOME2 see codebook) scale 1-8 ...  None             no  \n"
     ]
    }
   ],
   "source": [
    "from ucimlrepo import fetch_ucirepo\n",
    "\n",
    "# fetch dataset\n",
    "cdc_diabetes_health_indicators = fetch_ucirepo(id=891)\n",
    "\n",
    "# data (as pandas dataframes)\n",
    "X = cdc_diabetes_health_indicators.data.features\n",
    "y = cdc_diabetes_health_indicators.data.targets\n",
    "\n",
    "# metadata\n",
    "print(cdc_diabetes_health_indicators.metadata)\n",
    "\n",
    "# variable information\n",
    "print(cdc_diabetes_health_indicators.variables)\n",
    "\n"
   ]
  },
  {
   "cell_type": "markdown",
   "id": "TzyeghJDEjit",
   "metadata": {
    "id": "TzyeghJDEjit"
   },
   "source": [
    "\n",
    "\n",
    "# 2. **Data Format Transformation:**\n",
    "   - Describe the current format of the data.\n",
    "   - Outline the planned transformation to a unified format suitable for analysis and modeling.\n",
    "\n",
    " **Data Format:**\n",
    " * The dataset is available in CSV format with columns including: age, sex, race, diabetes status, BMI, blood pressure, cholesterol levels, physical activity, etc.\n",
    "\n",
    " **Planned Transformation:**\n",
    "\n",
    "      * Load data into a DataFrame.\n",
    "      * Normalize or standardize numerical features such as age, BMI, and lab results.\n",
    "      * Aggregate survey responses into relevant features if needed.\n",
    "\n",
    "\n",
    "\n"
   ]
  },
  {
   "cell_type": "code",
   "execution_count": null,
   "id": "zGxSuV3EJvHR",
   "metadata": {
    "colab": {
     "base_uri": "https://localhost:8080/"
    },
    "id": "zGxSuV3EJvHR",
    "outputId": "7c2083cd-5cdc-4f09-8d1f-0f30e720448e"
   },
   "outputs": [
    {
     "data": {
      "text/plain": [
       "(253680, 21)"
      ]
     },
     "execution_count": 34,
     "metadata": {},
     "output_type": "execute_result"
    }
   ],
   "source": [
    "# put the data into pandas  and apply thes to it:\n",
    "# Planned Transformation:\n",
    "# Convert categorical variables to numeric using one-hot encoding.\n",
    "# Normalize or standardize numerical features such as age, BMI, and lab results.\n",
    "# Aggregate survey responses into relevant features if needed.\n",
    "\n",
    "import pandas as pd\n",
    "from sklearn.preprocessing import OneHotEncoder, StandardScaler\n",
    "\n",
    "# Create pandas DataFrames from the fetched data\n",
    "X_df = pd.DataFrame(X)\n",
    "y_df = pd.DataFrame(y)\n",
    "\n",
    "X_df.shape"
   ]
  },
  {
   "cell_type": "code",
   "execution_count": null,
   "id": "7raZS8kJF9-4",
   "metadata": {
    "colab": {
     "base_uri": "https://localhost:8080/",
     "height": 141
    },
    "id": "7raZS8kJF9-4",
    "outputId": "24f74fbb-af1a-491c-b2f2-7f424c10a7b6"
   },
   "outputs": [
    {
     "ename": "NameError",
     "evalue": "name 'y_resampled' is not defined",
     "output_type": "error",
     "traceback": [
      "\u001b[0;31m---------------------------------------------------------------------------\u001b[0m",
      "\u001b[0;31mNameError\u001b[0m                                 Traceback (most recent call last)",
      "\u001b[0;32m<ipython-input-7-8298a5bdec51>\u001b[0m in \u001b[0;36m<cell line: 1>\u001b[0;34m()\u001b[0m\n\u001b[0;32m----> 1\u001b[0;31m \u001b[0mprint\u001b[0m\u001b[0;34m(\u001b[0m\u001b[0my_resampled\u001b[0m\u001b[0;34m[\u001b[0m\u001b[0;34m:\u001b[0m\u001b[0;36m5000\u001b[0m\u001b[0;34m]\u001b[0m\u001b[0;34m)\u001b[0m\u001b[0;34m\u001b[0m\u001b[0;34m\u001b[0m\u001b[0m\n\u001b[0m",
      "\u001b[0;31mNameError\u001b[0m: name 'y_resampled' is not defined"
     ]
    }
   ],
   "source": [
    "print(y_resampled[:5000])"
   ]
  },
  {
   "cell_type": "code",
   "execution_count": null,
   "id": "aBkdz0LxJ68p",
   "metadata": {
    "colab": {
     "base_uri": "https://localhost:8080/",
     "height": 443
    },
    "id": "aBkdz0LxJ68p",
    "outputId": "1081e280-c7db-4a7c-f53c-90b6dcd1036b"
   },
   "outputs": [
    {
     "data": {
      "application/vnd.google.colaboratory.intrinsic+json": {
       "type": "dataframe",
       "variable_name": "X_processed"
      },
      "text/html": [
       "\n",
       "  <div id=\"df-68b450c5-055c-445b-b082-488d8505c567\" class=\"colab-df-container\">\n",
       "    <div>\n",
       "<style scoped>\n",
       "    .dataframe tbody tr th:only-of-type {\n",
       "        vertical-align: middle;\n",
       "    }\n",
       "\n",
       "    .dataframe tbody tr th {\n",
       "        vertical-align: top;\n",
       "    }\n",
       "\n",
       "    .dataframe thead th {\n",
       "        text-align: right;\n",
       "    }\n",
       "</style>\n",
       "<table border=\"1\" class=\"dataframe\">\n",
       "  <thead>\n",
       "    <tr style=\"text-align: right;\">\n",
       "      <th></th>\n",
       "      <th>HighBP</th>\n",
       "      <th>HighChol</th>\n",
       "      <th>CholCheck</th>\n",
       "      <th>BMI</th>\n",
       "      <th>Smoker</th>\n",
       "      <th>Stroke</th>\n",
       "      <th>HeartDiseaseorAttack</th>\n",
       "      <th>PhysActivity</th>\n",
       "      <th>Fruits</th>\n",
       "      <th>Veggies</th>\n",
       "      <th>...</th>\n",
       "      <th>AnyHealthcare</th>\n",
       "      <th>NoDocbcCost</th>\n",
       "      <th>GenHlth</th>\n",
       "      <th>MentHlth</th>\n",
       "      <th>PhysHlth</th>\n",
       "      <th>DiffWalk</th>\n",
       "      <th>Sex</th>\n",
       "      <th>Age</th>\n",
       "      <th>Education</th>\n",
       "      <th>Income</th>\n",
       "    </tr>\n",
       "  </thead>\n",
       "  <tbody>\n",
       "    <tr>\n",
       "      <th>0</th>\n",
       "      <td>1.153688</td>\n",
       "      <td>1.165254</td>\n",
       "      <td>0.196922</td>\n",
       "      <td>1.757936</td>\n",
       "      <td>1.120927</td>\n",
       "      <td>-0.205637</td>\n",
       "      <td>-0.322458</td>\n",
       "      <td>-1.762814</td>\n",
       "      <td>-1.316872</td>\n",
       "      <td>0.482087</td>\n",
       "      <td>...</td>\n",
       "      <td>0.226863</td>\n",
       "      <td>-0.303173</td>\n",
       "      <td>2.329121</td>\n",
       "      <td>1.998592</td>\n",
       "      <td>1.233999</td>\n",
       "      <td>2.223615</td>\n",
       "      <td>-0.887021</td>\n",
       "      <td>0.316900</td>\n",
       "      <td>-1.065595</td>\n",
       "      <td>-1.474487</td>\n",
       "    </tr>\n",
       "    <tr>\n",
       "      <th>1</th>\n",
       "      <td>-0.866785</td>\n",
       "      <td>-0.858182</td>\n",
       "      <td>-5.078164</td>\n",
       "      <td>-0.511806</td>\n",
       "      <td>1.120927</td>\n",
       "      <td>-0.205637</td>\n",
       "      <td>-0.322458</td>\n",
       "      <td>0.567275</td>\n",
       "      <td>-1.316872</td>\n",
       "      <td>-2.074316</td>\n",
       "      <td>...</td>\n",
       "      <td>-4.407954</td>\n",
       "      <td>3.298445</td>\n",
       "      <td>0.457294</td>\n",
       "      <td>-0.429630</td>\n",
       "      <td>-0.486592</td>\n",
       "      <td>-0.449718</td>\n",
       "      <td>-0.887021</td>\n",
       "      <td>-0.337933</td>\n",
       "      <td>0.963272</td>\n",
       "      <td>-2.440138</td>\n",
       "    </tr>\n",
       "    <tr>\n",
       "      <th>2</th>\n",
       "      <td>1.153688</td>\n",
       "      <td>1.165254</td>\n",
       "      <td>0.196922</td>\n",
       "      <td>-0.057858</td>\n",
       "      <td>-0.892119</td>\n",
       "      <td>-0.205637</td>\n",
       "      <td>-0.322458</td>\n",
       "      <td>-1.762814</td>\n",
       "      <td>0.759375</td>\n",
       "      <td>-2.074316</td>\n",
       "      <td>...</td>\n",
       "      <td>0.226863</td>\n",
       "      <td>3.298445</td>\n",
       "      <td>2.329121</td>\n",
       "      <td>3.617407</td>\n",
       "      <td>2.954590</td>\n",
       "      <td>2.223615</td>\n",
       "      <td>-0.887021</td>\n",
       "      <td>0.316900</td>\n",
       "      <td>-1.065595</td>\n",
       "      <td>0.939638</td>\n",
       "    </tr>\n",
       "    <tr>\n",
       "      <th>3</th>\n",
       "      <td>1.153688</td>\n",
       "      <td>-0.858182</td>\n",
       "      <td>0.196922</td>\n",
       "      <td>-0.209174</td>\n",
       "      <td>-0.892119</td>\n",
       "      <td>-0.205637</td>\n",
       "      <td>-0.322458</td>\n",
       "      <td>0.567275</td>\n",
       "      <td>0.759375</td>\n",
       "      <td>0.482087</td>\n",
       "      <td>...</td>\n",
       "      <td>0.226863</td>\n",
       "      <td>-0.303173</td>\n",
       "      <td>-0.478619</td>\n",
       "      <td>-0.429630</td>\n",
       "      <td>-0.486592</td>\n",
       "      <td>-0.449718</td>\n",
       "      <td>-0.887021</td>\n",
       "      <td>0.971733</td>\n",
       "      <td>-2.080028</td>\n",
       "      <td>-0.026012</td>\n",
       "    </tr>\n",
       "    <tr>\n",
       "      <th>4</th>\n",
       "      <td>1.153688</td>\n",
       "      <td>1.165254</td>\n",
       "      <td>0.196922</td>\n",
       "      <td>-0.663122</td>\n",
       "      <td>-0.892119</td>\n",
       "      <td>-0.205637</td>\n",
       "      <td>-0.322458</td>\n",
       "      <td>0.567275</td>\n",
       "      <td>0.759375</td>\n",
       "      <td>0.482087</td>\n",
       "      <td>...</td>\n",
       "      <td>0.226863</td>\n",
       "      <td>-0.303173</td>\n",
       "      <td>-0.478619</td>\n",
       "      <td>-0.024926</td>\n",
       "      <td>-0.486592</td>\n",
       "      <td>-0.449718</td>\n",
       "      <td>-0.887021</td>\n",
       "      <td>0.971733</td>\n",
       "      <td>-0.051162</td>\n",
       "      <td>-0.991662</td>\n",
       "    </tr>\n",
       "    <tr>\n",
       "      <th>...</th>\n",
       "      <td>...</td>\n",
       "      <td>...</td>\n",
       "      <td>...</td>\n",
       "      <td>...</td>\n",
       "      <td>...</td>\n",
       "      <td>...</td>\n",
       "      <td>...</td>\n",
       "      <td>...</td>\n",
       "      <td>...</td>\n",
       "      <td>...</td>\n",
       "      <td>...</td>\n",
       "      <td>...</td>\n",
       "      <td>...</td>\n",
       "      <td>...</td>\n",
       "      <td>...</td>\n",
       "      <td>...</td>\n",
       "      <td>...</td>\n",
       "      <td>...</td>\n",
       "      <td>...</td>\n",
       "      <td>...</td>\n",
       "      <td>...</td>\n",
       "    </tr>\n",
       "    <tr>\n",
       "      <th>253675</th>\n",
       "      <td>1.153688</td>\n",
       "      <td>1.165254</td>\n",
       "      <td>0.196922</td>\n",
       "      <td>2.514516</td>\n",
       "      <td>-0.892119</td>\n",
       "      <td>-0.205637</td>\n",
       "      <td>-0.322458</td>\n",
       "      <td>-1.762814</td>\n",
       "      <td>0.759375</td>\n",
       "      <td>0.482087</td>\n",
       "      <td>...</td>\n",
       "      <td>0.226863</td>\n",
       "      <td>-0.303173</td>\n",
       "      <td>0.457294</td>\n",
       "      <td>-0.429630</td>\n",
       "      <td>0.086938</td>\n",
       "      <td>-0.449718</td>\n",
       "      <td>1.127369</td>\n",
       "      <td>-0.992766</td>\n",
       "      <td>0.963272</td>\n",
       "      <td>0.456813</td>\n",
       "    </tr>\n",
       "    <tr>\n",
       "      <th>253676</th>\n",
       "      <td>1.153688</td>\n",
       "      <td>1.165254</td>\n",
       "      <td>0.196922</td>\n",
       "      <td>-1.571019</td>\n",
       "      <td>-0.892119</td>\n",
       "      <td>-0.205637</td>\n",
       "      <td>-0.322458</td>\n",
       "      <td>-1.762814</td>\n",
       "      <td>-1.316872</td>\n",
       "      <td>-2.074316</td>\n",
       "      <td>...</td>\n",
       "      <td>0.226863</td>\n",
       "      <td>-0.303173</td>\n",
       "      <td>1.393207</td>\n",
       "      <td>-0.429630</td>\n",
       "      <td>-0.486592</td>\n",
       "      <td>2.223615</td>\n",
       "      <td>-0.887021</td>\n",
       "      <td>0.971733</td>\n",
       "      <td>-3.094461</td>\n",
       "      <td>-0.991662</td>\n",
       "    </tr>\n",
       "    <tr>\n",
       "      <th>253677</th>\n",
       "      <td>-0.866785</td>\n",
       "      <td>-0.858182</td>\n",
       "      <td>0.196922</td>\n",
       "      <td>-0.057858</td>\n",
       "      <td>-0.892119</td>\n",
       "      <td>-0.205637</td>\n",
       "      <td>-0.322458</td>\n",
       "      <td>0.567275</td>\n",
       "      <td>0.759375</td>\n",
       "      <td>-2.074316</td>\n",
       "      <td>...</td>\n",
       "      <td>0.226863</td>\n",
       "      <td>-0.303173</td>\n",
       "      <td>-1.414532</td>\n",
       "      <td>-0.429630</td>\n",
       "      <td>-0.486592</td>\n",
       "      <td>-0.449718</td>\n",
       "      <td>-0.887021</td>\n",
       "      <td>-1.975015</td>\n",
       "      <td>-0.051162</td>\n",
       "      <td>-1.957312</td>\n",
       "    </tr>\n",
       "    <tr>\n",
       "      <th>253678</th>\n",
       "      <td>1.153688</td>\n",
       "      <td>-0.858182</td>\n",
       "      <td>0.196922</td>\n",
       "      <td>-0.814438</td>\n",
       "      <td>-0.892119</td>\n",
       "      <td>-0.205637</td>\n",
       "      <td>-0.322458</td>\n",
       "      <td>-1.762814</td>\n",
       "      <td>0.759375</td>\n",
       "      <td>0.482087</td>\n",
       "      <td>...</td>\n",
       "      <td>0.226863</td>\n",
       "      <td>-0.303173</td>\n",
       "      <td>0.457294</td>\n",
       "      <td>-0.429630</td>\n",
       "      <td>-0.486592</td>\n",
       "      <td>-0.449718</td>\n",
       "      <td>1.127369</td>\n",
       "      <td>-0.337933</td>\n",
       "      <td>-0.051162</td>\n",
       "      <td>-2.440138</td>\n",
       "    </tr>\n",
       "    <tr>\n",
       "      <th>253679</th>\n",
       "      <td>1.153688</td>\n",
       "      <td>1.165254</td>\n",
       "      <td>0.196922</td>\n",
       "      <td>-0.511806</td>\n",
       "      <td>-0.892119</td>\n",
       "      <td>-0.205637</td>\n",
       "      <td>3.101183</td>\n",
       "      <td>0.567275</td>\n",
       "      <td>0.759375</td>\n",
       "      <td>-2.074316</td>\n",
       "      <td>...</td>\n",
       "      <td>0.226863</td>\n",
       "      <td>-0.303173</td>\n",
       "      <td>-0.478619</td>\n",
       "      <td>-0.429630</td>\n",
       "      <td>-0.486592</td>\n",
       "      <td>-0.449718</td>\n",
       "      <td>-0.887021</td>\n",
       "      <td>0.316900</td>\n",
       "      <td>0.963272</td>\n",
       "      <td>-1.957312</td>\n",
       "    </tr>\n",
       "  </tbody>\n",
       "</table>\n",
       "<p>253680 rows × 21 columns</p>\n",
       "</div>\n",
       "    <div class=\"colab-df-buttons\">\n",
       "\n",
       "  <div class=\"colab-df-container\">\n",
       "    <button class=\"colab-df-convert\" onclick=\"convertToInteractive('df-68b450c5-055c-445b-b082-488d8505c567')\"\n",
       "            title=\"Convert this dataframe to an interactive table.\"\n",
       "            style=\"display:none;\">\n",
       "\n",
       "  <svg xmlns=\"http://www.w3.org/2000/svg\" height=\"24px\" viewBox=\"0 -960 960 960\">\n",
       "    <path d=\"M120-120v-720h720v720H120Zm60-500h600v-160H180v160Zm220 220h160v-160H400v160Zm0 220h160v-160H400v160ZM180-400h160v-160H180v160Zm440 0h160v-160H620v160ZM180-180h160v-160H180v160Zm440 0h160v-160H620v160Z\"/>\n",
       "  </svg>\n",
       "    </button>\n",
       "\n",
       "  <style>\n",
       "    .colab-df-container {\n",
       "      display:flex;\n",
       "      gap: 12px;\n",
       "    }\n",
       "\n",
       "    .colab-df-convert {\n",
       "      background-color: #E8F0FE;\n",
       "      border: none;\n",
       "      border-radius: 50%;\n",
       "      cursor: pointer;\n",
       "      display: none;\n",
       "      fill: #1967D2;\n",
       "      height: 32px;\n",
       "      padding: 0 0 0 0;\n",
       "      width: 32px;\n",
       "    }\n",
       "\n",
       "    .colab-df-convert:hover {\n",
       "      background-color: #E2EBFA;\n",
       "      box-shadow: 0px 1px 2px rgba(60, 64, 67, 0.3), 0px 1px 3px 1px rgba(60, 64, 67, 0.15);\n",
       "      fill: #174EA6;\n",
       "    }\n",
       "\n",
       "    .colab-df-buttons div {\n",
       "      margin-bottom: 4px;\n",
       "    }\n",
       "\n",
       "    [theme=dark] .colab-df-convert {\n",
       "      background-color: #3B4455;\n",
       "      fill: #D2E3FC;\n",
       "    }\n",
       "\n",
       "    [theme=dark] .colab-df-convert:hover {\n",
       "      background-color: #434B5C;\n",
       "      box-shadow: 0px 1px 3px 1px rgba(0, 0, 0, 0.15);\n",
       "      filter: drop-shadow(0px 1px 2px rgba(0, 0, 0, 0.3));\n",
       "      fill: #FFFFFF;\n",
       "    }\n",
       "  </style>\n",
       "\n",
       "    <script>\n",
       "      const buttonEl =\n",
       "        document.querySelector('#df-68b450c5-055c-445b-b082-488d8505c567 button.colab-df-convert');\n",
       "      buttonEl.style.display =\n",
       "        google.colab.kernel.accessAllowed ? 'block' : 'none';\n",
       "\n",
       "      async function convertToInteractive(key) {\n",
       "        const element = document.querySelector('#df-68b450c5-055c-445b-b082-488d8505c567');\n",
       "        const dataTable =\n",
       "          await google.colab.kernel.invokeFunction('convertToInteractive',\n",
       "                                                    [key], {});\n",
       "        if (!dataTable) return;\n",
       "\n",
       "        const docLinkHtml = 'Like what you see? Visit the ' +\n",
       "          '<a target=\"_blank\" href=https://colab.research.google.com/notebooks/data_table.ipynb>data table notebook</a>'\n",
       "          + ' to learn more about interactive tables.';\n",
       "        element.innerHTML = '';\n",
       "        dataTable['output_type'] = 'display_data';\n",
       "        await google.colab.output.renderOutput(dataTable, element);\n",
       "        const docLink = document.createElement('div');\n",
       "        docLink.innerHTML = docLinkHtml;\n",
       "        element.appendChild(docLink);\n",
       "      }\n",
       "    </script>\n",
       "  </div>\n",
       "\n",
       "\n",
       "<div id=\"df-d6c27816-678a-4a3b-96e7-3a1f4975cd20\">\n",
       "  <button class=\"colab-df-quickchart\" onclick=\"quickchart('df-d6c27816-678a-4a3b-96e7-3a1f4975cd20')\"\n",
       "            title=\"Suggest charts\"\n",
       "            style=\"display:none;\">\n",
       "\n",
       "<svg xmlns=\"http://www.w3.org/2000/svg\" height=\"24px\"viewBox=\"0 0 24 24\"\n",
       "     width=\"24px\">\n",
       "    <g>\n",
       "        <path d=\"M19 3H5c-1.1 0-2 .9-2 2v14c0 1.1.9 2 2 2h14c1.1 0 2-.9 2-2V5c0-1.1-.9-2-2-2zM9 17H7v-7h2v7zm4 0h-2V7h2v10zm4 0h-2v-4h2v4z\"/>\n",
       "    </g>\n",
       "</svg>\n",
       "  </button>\n",
       "\n",
       "<style>\n",
       "  .colab-df-quickchart {\n",
       "      --bg-color: #E8F0FE;\n",
       "      --fill-color: #1967D2;\n",
       "      --hover-bg-color: #E2EBFA;\n",
       "      --hover-fill-color: #174EA6;\n",
       "      --disabled-fill-color: #AAA;\n",
       "      --disabled-bg-color: #DDD;\n",
       "  }\n",
       "\n",
       "  [theme=dark] .colab-df-quickchart {\n",
       "      --bg-color: #3B4455;\n",
       "      --fill-color: #D2E3FC;\n",
       "      --hover-bg-color: #434B5C;\n",
       "      --hover-fill-color: #FFFFFF;\n",
       "      --disabled-bg-color: #3B4455;\n",
       "      --disabled-fill-color: #666;\n",
       "  }\n",
       "\n",
       "  .colab-df-quickchart {\n",
       "    background-color: var(--bg-color);\n",
       "    border: none;\n",
       "    border-radius: 50%;\n",
       "    cursor: pointer;\n",
       "    display: none;\n",
       "    fill: var(--fill-color);\n",
       "    height: 32px;\n",
       "    padding: 0;\n",
       "    width: 32px;\n",
       "  }\n",
       "\n",
       "  .colab-df-quickchart:hover {\n",
       "    background-color: var(--hover-bg-color);\n",
       "    box-shadow: 0 1px 2px rgba(60, 64, 67, 0.3), 0 1px 3px 1px rgba(60, 64, 67, 0.15);\n",
       "    fill: var(--button-hover-fill-color);\n",
       "  }\n",
       "\n",
       "  .colab-df-quickchart-complete:disabled,\n",
       "  .colab-df-quickchart-complete:disabled:hover {\n",
       "    background-color: var(--disabled-bg-color);\n",
       "    fill: var(--disabled-fill-color);\n",
       "    box-shadow: none;\n",
       "  }\n",
       "\n",
       "  .colab-df-spinner {\n",
       "    border: 2px solid var(--fill-color);\n",
       "    border-color: transparent;\n",
       "    border-bottom-color: var(--fill-color);\n",
       "    animation:\n",
       "      spin 1s steps(1) infinite;\n",
       "  }\n",
       "\n",
       "  @keyframes spin {\n",
       "    0% {\n",
       "      border-color: transparent;\n",
       "      border-bottom-color: var(--fill-color);\n",
       "      border-left-color: var(--fill-color);\n",
       "    }\n",
       "    20% {\n",
       "      border-color: transparent;\n",
       "      border-left-color: var(--fill-color);\n",
       "      border-top-color: var(--fill-color);\n",
       "    }\n",
       "    30% {\n",
       "      border-color: transparent;\n",
       "      border-left-color: var(--fill-color);\n",
       "      border-top-color: var(--fill-color);\n",
       "      border-right-color: var(--fill-color);\n",
       "    }\n",
       "    40% {\n",
       "      border-color: transparent;\n",
       "      border-right-color: var(--fill-color);\n",
       "      border-top-color: var(--fill-color);\n",
       "    }\n",
       "    60% {\n",
       "      border-color: transparent;\n",
       "      border-right-color: var(--fill-color);\n",
       "    }\n",
       "    80% {\n",
       "      border-color: transparent;\n",
       "      border-right-color: var(--fill-color);\n",
       "      border-bottom-color: var(--fill-color);\n",
       "    }\n",
       "    90% {\n",
       "      border-color: transparent;\n",
       "      border-bottom-color: var(--fill-color);\n",
       "    }\n",
       "  }\n",
       "</style>\n",
       "\n",
       "  <script>\n",
       "    async function quickchart(key) {\n",
       "      const quickchartButtonEl =\n",
       "        document.querySelector('#' + key + ' button');\n",
       "      quickchartButtonEl.disabled = true;  // To prevent multiple clicks.\n",
       "      quickchartButtonEl.classList.add('colab-df-spinner');\n",
       "      try {\n",
       "        const charts = await google.colab.kernel.invokeFunction(\n",
       "            'suggestCharts', [key], {});\n",
       "      } catch (error) {\n",
       "        console.error('Error during call to suggestCharts:', error);\n",
       "      }\n",
       "      quickchartButtonEl.classList.remove('colab-df-spinner');\n",
       "      quickchartButtonEl.classList.add('colab-df-quickchart-complete');\n",
       "    }\n",
       "    (() => {\n",
       "      let quickchartButtonEl =\n",
       "        document.querySelector('#df-d6c27816-678a-4a3b-96e7-3a1f4975cd20 button');\n",
       "      quickchartButtonEl.style.display =\n",
       "        google.colab.kernel.accessAllowed ? 'block' : 'none';\n",
       "    })();\n",
       "  </script>\n",
       "</div>\n",
       "\n",
       "  <div id=\"id_5de71bdf-8f48-4eb9-b276-ed096d6e3108\">\n",
       "    <style>\n",
       "      .colab-df-generate {\n",
       "        background-color: #E8F0FE;\n",
       "        border: none;\n",
       "        border-radius: 50%;\n",
       "        cursor: pointer;\n",
       "        display: none;\n",
       "        fill: #1967D2;\n",
       "        height: 32px;\n",
       "        padding: 0 0 0 0;\n",
       "        width: 32px;\n",
       "      }\n",
       "\n",
       "      .colab-df-generate:hover {\n",
       "        background-color: #E2EBFA;\n",
       "        box-shadow: 0px 1px 2px rgba(60, 64, 67, 0.3), 0px 1px 3px 1px rgba(60, 64, 67, 0.15);\n",
       "        fill: #174EA6;\n",
       "      }\n",
       "\n",
       "      [theme=dark] .colab-df-generate {\n",
       "        background-color: #3B4455;\n",
       "        fill: #D2E3FC;\n",
       "      }\n",
       "\n",
       "      [theme=dark] .colab-df-generate:hover {\n",
       "        background-color: #434B5C;\n",
       "        box-shadow: 0px 1px 3px 1px rgba(0, 0, 0, 0.15);\n",
       "        filter: drop-shadow(0px 1px 2px rgba(0, 0, 0, 0.3));\n",
       "        fill: #FFFFFF;\n",
       "      }\n",
       "    </style>\n",
       "    <button class=\"colab-df-generate\" onclick=\"generateWithVariable('X_processed')\"\n",
       "            title=\"Generate code using this dataframe.\"\n",
       "            style=\"display:none;\">\n",
       "\n",
       "  <svg xmlns=\"http://www.w3.org/2000/svg\" height=\"24px\"viewBox=\"0 0 24 24\"\n",
       "       width=\"24px\">\n",
       "    <path d=\"M7,19H8.4L18.45,9,17,7.55,7,17.6ZM5,21V16.75L18.45,3.32a2,2,0,0,1,2.83,0l1.4,1.43a1.91,1.91,0,0,1,.58,1.4,1.91,1.91,0,0,1-.58,1.4L9.25,21ZM18.45,9,17,7.55Zm-12,3A5.31,5.31,0,0,0,4.9,8.1,5.31,5.31,0,0,0,1,6.5,5.31,5.31,0,0,0,4.9,4.9,5.31,5.31,0,0,0,6.5,1,5.31,5.31,0,0,0,8.1,4.9,5.31,5.31,0,0,0,12,6.5,5.46,5.46,0,0,0,6.5,12Z\"/>\n",
       "  </svg>\n",
       "    </button>\n",
       "    <script>\n",
       "      (() => {\n",
       "      const buttonEl =\n",
       "        document.querySelector('#id_5de71bdf-8f48-4eb9-b276-ed096d6e3108 button.colab-df-generate');\n",
       "      buttonEl.style.display =\n",
       "        google.colab.kernel.accessAllowed ? 'block' : 'none';\n",
       "\n",
       "      buttonEl.onclick = () => {\n",
       "        google.colab.notebook.generateWithVariable('X_processed');\n",
       "      }\n",
       "      })();\n",
       "    </script>\n",
       "  </div>\n",
       "\n",
       "    </div>\n",
       "  </div>\n"
      ],
      "text/plain": [
       "          HighBP  HighChol  CholCheck       BMI    Smoker    Stroke  \\\n",
       "0       1.153688  1.165254   0.196922  1.757936  1.120927 -0.205637   \n",
       "1      -0.866785 -0.858182  -5.078164 -0.511806  1.120927 -0.205637   \n",
       "2       1.153688  1.165254   0.196922 -0.057858 -0.892119 -0.205637   \n",
       "3       1.153688 -0.858182   0.196922 -0.209174 -0.892119 -0.205637   \n",
       "4       1.153688  1.165254   0.196922 -0.663122 -0.892119 -0.205637   \n",
       "...          ...       ...        ...       ...       ...       ...   \n",
       "253675  1.153688  1.165254   0.196922  2.514516 -0.892119 -0.205637   \n",
       "253676  1.153688  1.165254   0.196922 -1.571019 -0.892119 -0.205637   \n",
       "253677 -0.866785 -0.858182   0.196922 -0.057858 -0.892119 -0.205637   \n",
       "253678  1.153688 -0.858182   0.196922 -0.814438 -0.892119 -0.205637   \n",
       "253679  1.153688  1.165254   0.196922 -0.511806 -0.892119 -0.205637   \n",
       "\n",
       "        HeartDiseaseorAttack  PhysActivity    Fruits   Veggies  ...  \\\n",
       "0                  -0.322458     -1.762814 -1.316872  0.482087  ...   \n",
       "1                  -0.322458      0.567275 -1.316872 -2.074316  ...   \n",
       "2                  -0.322458     -1.762814  0.759375 -2.074316  ...   \n",
       "3                  -0.322458      0.567275  0.759375  0.482087  ...   \n",
       "4                  -0.322458      0.567275  0.759375  0.482087  ...   \n",
       "...                      ...           ...       ...       ...  ...   \n",
       "253675             -0.322458     -1.762814  0.759375  0.482087  ...   \n",
       "253676             -0.322458     -1.762814 -1.316872 -2.074316  ...   \n",
       "253677             -0.322458      0.567275  0.759375 -2.074316  ...   \n",
       "253678             -0.322458     -1.762814  0.759375  0.482087  ...   \n",
       "253679              3.101183      0.567275  0.759375 -2.074316  ...   \n",
       "\n",
       "        AnyHealthcare  NoDocbcCost   GenHlth  MentHlth  PhysHlth  DiffWalk  \\\n",
       "0            0.226863    -0.303173  2.329121  1.998592  1.233999  2.223615   \n",
       "1           -4.407954     3.298445  0.457294 -0.429630 -0.486592 -0.449718   \n",
       "2            0.226863     3.298445  2.329121  3.617407  2.954590  2.223615   \n",
       "3            0.226863    -0.303173 -0.478619 -0.429630 -0.486592 -0.449718   \n",
       "4            0.226863    -0.303173 -0.478619 -0.024926 -0.486592 -0.449718   \n",
       "...               ...          ...       ...       ...       ...       ...   \n",
       "253675       0.226863    -0.303173  0.457294 -0.429630  0.086938 -0.449718   \n",
       "253676       0.226863    -0.303173  1.393207 -0.429630 -0.486592  2.223615   \n",
       "253677       0.226863    -0.303173 -1.414532 -0.429630 -0.486592 -0.449718   \n",
       "253678       0.226863    -0.303173  0.457294 -0.429630 -0.486592 -0.449718   \n",
       "253679       0.226863    -0.303173 -0.478619 -0.429630 -0.486592 -0.449718   \n",
       "\n",
       "             Sex       Age  Education    Income  \n",
       "0      -0.887021  0.316900  -1.065595 -1.474487  \n",
       "1      -0.887021 -0.337933   0.963272 -2.440138  \n",
       "2      -0.887021  0.316900  -1.065595  0.939638  \n",
       "3      -0.887021  0.971733  -2.080028 -0.026012  \n",
       "4      -0.887021  0.971733  -0.051162 -0.991662  \n",
       "...          ...       ...        ...       ...  \n",
       "253675  1.127369 -0.992766   0.963272  0.456813  \n",
       "253676 -0.887021  0.971733  -3.094461 -0.991662  \n",
       "253677 -0.887021 -1.975015  -0.051162 -1.957312  \n",
       "253678  1.127369 -0.337933  -0.051162 -2.440138  \n",
       "253679 -0.887021  0.316900   0.963272 -1.957312  \n",
       "\n",
       "[253680 rows x 21 columns]"
      ]
     },
     "execution_count": 8,
     "metadata": {},
     "output_type": "execute_result"
    }
   ],
   "source": [
    "# One-hot encode categorical variables\n",
    "encoder = OneHotEncoder(handle_unknown='ignore')\n",
    "X_encoded = encoder.fit_transform(X_df.select_dtypes(include=['object']))\n",
    "X_encoded_df = pd.DataFrame.sparse.from_spmatrix(X_encoded, columns=encoder.get_feature_names_out(X_df.select_dtypes(include=['object']).columns))\n",
    "\n",
    "# Standardize numerical features\n",
    "scaler = StandardScaler()\n",
    "X_numerical = scaler.fit_transform(X_df.select_dtypes(include=['number']))\n",
    "X_numerical_df = pd.DataFrame(X_numerical, columns=X_df.select_dtypes(include=['number']).columns)\n",
    "\n",
    "# Combine processed data\n",
    "X_processed = pd.concat([X_numerical_df, X_encoded_df], axis=1)\n",
    "\n",
    "# Aggregate survey responses if needed (example)\n",
    "# Assuming survey responses are in columns 'Survey1', 'Survey2', etc.\n",
    "# X_processed['SurveyAggregate'] = X_processed[['Survey1', 'Survey2']].mean(axis=1)\n",
    "\n",
    "X_processed"
   ]
  },
  {
   "cell_type": "markdown",
   "id": "i-iYXKxQJNcA",
   "metadata": {
    "id": "i-iYXKxQJNcA"
   },
   "source": [
    "# 3. **Data Exploration:**\n",
    "   - Enumerate the features included in the dataset.\n",
    "   \n",
    "   - Summarize findings from exploratory data analysis (EDA) including distributions, correlations, and outliers.\n",
    "   \n",
    "**Features Included:**\n",
    "   * Age, Sex, Race, Diabetes Status, BMI, Blood Pressure, Cholesterol Levels, Physical Activity, etc.\n",
    "\n",
    "**EDA Findings:**\n",
    "\n",
    "* Distributions of continuous variables like BMI and cholesterol levels.\n",
    "* Correlation between diabetes status and health indicators.\n",
    "* Outliers detected in BMI and cholesterol levels."
   ]
  },
  {
   "cell_type": "code",
   "execution_count": null,
   "id": "oYEgIOxSFUHW",
   "metadata": {
    "colab": {
     "base_uri": "https://localhost:8080/",
     "height": 1000
    },
    "id": "oYEgIOxSFUHW",
    "outputId": "a3e19466-6664-4cf0-b069-16ea8caaf35f"
   },
   "outputs": [
    {
     "data": {
      "image/png": "[encoded data removed]",
      "text/plain": [
       "<Figure size 640x480 with 1 Axes>"
      ]
     },
     "metadata": {},
     "output_type": "display_data"
    },
    {
     "data": {
      "image/png": "[encoded data removed]",
      "text/plain": [
       "<Figure size 640x480 with 1 Axes>"
      ]
     },
     "metadata": {},
     "output_type": "display_data"
    },
    {
     "name": "stdout",
     "output_type": "stream",
     "text": [
      "HighBP                  0.263129\n",
      "HighChol                0.200276\n",
      "CholCheck               0.064761\n",
      "BMI                     0.216843\n",
      "Smoker                  0.060789\n",
      "Stroke                  0.105816\n",
      "HeartDiseaseorAttack    0.177282\n",
      "PhysActivity           -0.118133\n",
      "Fruits                 -0.040779\n",
      "Veggies                -0.056584\n",
      "HvyAlcoholConsump      -0.057056\n",
      "AnyHealthcare           0.016255\n",
      "NoDocbcCost             0.031433\n",
      "GenHlth                 0.293569\n",
      "MentHlth                0.069315\n",
      "PhysHlth                0.171337\n",
      "DiffWalk                0.218344\n",
      "Sex                     0.031430\n",
      "Age                     0.177442\n",
      "Education              -0.124456\n",
      "Income                 -0.163919\n",
      "dtype: float64\n"
     ]
    },
    {
     "data": {
      "image/png": "[encoded data removed]",
      "text/plain": [
       "<Figure size 640x480 with 1 Axes>"
      ]
     },
     "metadata": {},
     "output_type": "display_data"
    },
    {
     "data": {
      "image/png": "[encoded data removed]",
      "text/plain": [
       "<Figure size 640x480 with 1 Axes>"
      ]
     },
     "metadata": {},
     "output_type": "display_data"
    }
   ],
   "source": [
    "# EDA Findings:\n",
    "# Distributions of continuous variables like BMI and cholesterol levels.\n",
    "# Correlation between diabetes status and health indicators.\n",
    "# Outliers detected in BMI and cholesterol levels. for the data\n",
    "\n",
    "import matplotlib.pyplot as plt\n",
    "import seaborn as sns\n",
    "\n",
    "# Distributions of continuous variables\n",
    "sns.histplot(X_processed['BMI'], kde=True)\n",
    "plt.title('Distribution of BMI')\n",
    "plt.show()\n",
    "\n",
    "sns.histplot(X_processed['CholCheck'], kde=True)\n",
    "plt.title('Distribution of Cholesterol')\n",
    "plt.show()\n",
    "\n",
    "# Correlation between diabetes status and health indicators\n",
    "correlation_matrix = X_processed.corrwith(y_df['Diabetes_binary'])\n",
    "print(correlation_matrix)\n",
    "\n",
    "# Outliers detection\n",
    "sns.boxplot(x=X_processed['BMI'])\n",
    "plt.title('Boxplot of BMI')\n",
    "plt.show()\n",
    "\n",
    "sns.boxplot(x=X_processed['CholCheck'])\n",
    "plt.title('Boxplot of Cholesterol')\n",
    "plt.show()\n",
    "\n"
   ]
  },
  {
   "cell_type": "markdown",
   "id": "tHKtxjFKFNpB",
   "metadata": {
    "id": "tHKtxjFKFNpB"
   },
   "source": [
    "\n",
    "\n",
    "# 4. **Hypothesis Testing:**\n",
    "   - State any preexisting hypotheses about the data.\n",
    "   - Explain methodologies to empirically test these hypotheses.\n",
    "\n",
    "\n",
    "**Hypotheses:**\n",
    "\n",
    "  * Higher BMI is associated with a higher likelihood of having diabetes.\n",
    "  * Lack of physical activity correlates with increased diabetes risk.\n",
    "\n",
    "**Methodologies:**\n",
    "\n",
    "  * Use t-tests to compare BMI between diabetic and non-diabetic individuals.\n",
    "  * Perform logistic regression to assess the impact of physical activity on diabetes risk.\n",
    "\n",
    "# 5. **Handling Sparse/Dense Data and Outliers:**\n",
    "   - Assess the density of the data.\n",
    "   - Propose strategies to handle missing data and outliers while maintaining dataset integrity.\n",
    "\n",
    "\n",
    "**Density Assessment:**\n",
    "    \n",
    "  * The dataset is dense and provides detailed information across numerous features.\n",
    "\n",
    "**Outlier Handling:**\n",
    "  * Cap extreme values for BMI and Cholesterol Levels to handle outliers.\n",
    "  * Impute any missing values if found."
   ]
  },
  {
   "cell_type": "code",
   "execution_count": null,
   "id": "W7pNyMvWM05w",
   "metadata": {
    "colab": {
     "base_uri": "https://localhost:8080/",
     "height": 255
    },
    "id": "W7pNyMvWM05w",
    "outputId": "b7b35527-cc98-4a63-d038-51a7eea5d747"
   },
   "outputs": [
    {
     "data": {
      "application/vnd.google.colaboratory.intrinsic+json": {
       "type": "dataframe",
       "variable_name": "X_processed"
      },
      "text/html": [
       "\n",
       "  <div id=\"df-459ba89c-3a85-4f53-a06d-b69b89cb9531\" class=\"colab-df-container\">\n",
       "    <div>\n",
       "<style scoped>\n",
       "    .dataframe tbody tr th:only-of-type {\n",
       "        vertical-align: middle;\n",
       "    }\n",
       "\n",
       "    .dataframe tbody tr th {\n",
       "        vertical-align: top;\n",
       "    }\n",
       "\n",
       "    .dataframe thead th {\n",
       "        text-align: right;\n",
       "    }\n",
       "</style>\n",
       "<table border=\"1\" class=\"dataframe\">\n",
       "  <thead>\n",
       "    <tr style=\"text-align: right;\">\n",
       "      <th></th>\n",
       "      <th>HighBP</th>\n",
       "      <th>HighChol</th>\n",
       "      <th>CholCheck</th>\n",
       "      <th>BMI</th>\n",
       "      <th>Smoker</th>\n",
       "      <th>Stroke</th>\n",
       "      <th>HeartDiseaseorAttack</th>\n",
       "      <th>PhysActivity</th>\n",
       "      <th>Fruits</th>\n",
       "      <th>Veggies</th>\n",
       "      <th>...</th>\n",
       "      <th>AnyHealthcare</th>\n",
       "      <th>NoDocbcCost</th>\n",
       "      <th>GenHlth</th>\n",
       "      <th>MentHlth</th>\n",
       "      <th>PhysHlth</th>\n",
       "      <th>DiffWalk</th>\n",
       "      <th>Sex</th>\n",
       "      <th>Age</th>\n",
       "      <th>Education</th>\n",
       "      <th>Income</th>\n",
       "    </tr>\n",
       "  </thead>\n",
       "  <tbody>\n",
       "    <tr>\n",
       "      <th>0</th>\n",
       "      <td>1.153688</td>\n",
       "      <td>1.165254</td>\n",
       "      <td>0.196922</td>\n",
       "      <td>1.757936</td>\n",
       "      <td>1.120927</td>\n",
       "      <td>-0.205637</td>\n",
       "      <td>-0.322458</td>\n",
       "      <td>-1.762814</td>\n",
       "      <td>-1.316872</td>\n",
       "      <td>0.482087</td>\n",
       "      <td>...</td>\n",
       "      <td>0.226863</td>\n",
       "      <td>-0.303173</td>\n",
       "      <td>2.329121</td>\n",
       "      <td>1.998592</td>\n",
       "      <td>1.233999</td>\n",
       "      <td>2.223615</td>\n",
       "      <td>-0.887021</td>\n",
       "      <td>0.316900</td>\n",
       "      <td>-1.065595</td>\n",
       "      <td>-1.474487</td>\n",
       "    </tr>\n",
       "    <tr>\n",
       "      <th>1</th>\n",
       "      <td>-0.866785</td>\n",
       "      <td>-0.858182</td>\n",
       "      <td>-5.078164</td>\n",
       "      <td>-0.511806</td>\n",
       "      <td>1.120927</td>\n",
       "      <td>-0.205637</td>\n",
       "      <td>-0.322458</td>\n",
       "      <td>0.567275</td>\n",
       "      <td>-1.316872</td>\n",
       "      <td>-2.074316</td>\n",
       "      <td>...</td>\n",
       "      <td>-4.407954</td>\n",
       "      <td>3.298445</td>\n",
       "      <td>0.457294</td>\n",
       "      <td>-0.429630</td>\n",
       "      <td>-0.486592</td>\n",
       "      <td>-0.449718</td>\n",
       "      <td>-0.887021</td>\n",
       "      <td>-0.337933</td>\n",
       "      <td>0.963272</td>\n",
       "      <td>-2.440138</td>\n",
       "    </tr>\n",
       "    <tr>\n",
       "      <th>2</th>\n",
       "      <td>1.153688</td>\n",
       "      <td>1.165254</td>\n",
       "      <td>0.196922</td>\n",
       "      <td>-0.057858</td>\n",
       "      <td>-0.892119</td>\n",
       "      <td>-0.205637</td>\n",
       "      <td>-0.322458</td>\n",
       "      <td>-1.762814</td>\n",
       "      <td>0.759375</td>\n",
       "      <td>-2.074316</td>\n",
       "      <td>...</td>\n",
       "      <td>0.226863</td>\n",
       "      <td>3.298445</td>\n",
       "      <td>2.329121</td>\n",
       "      <td>3.617407</td>\n",
       "      <td>2.954590</td>\n",
       "      <td>2.223615</td>\n",
       "      <td>-0.887021</td>\n",
       "      <td>0.316900</td>\n",
       "      <td>-1.065595</td>\n",
       "      <td>0.939638</td>\n",
       "    </tr>\n",
       "    <tr>\n",
       "      <th>3</th>\n",
       "      <td>1.153688</td>\n",
       "      <td>-0.858182</td>\n",
       "      <td>0.196922</td>\n",
       "      <td>-0.209174</td>\n",
       "      <td>-0.892119</td>\n",
       "      <td>-0.205637</td>\n",
       "      <td>-0.322458</td>\n",
       "      <td>0.567275</td>\n",
       "      <td>0.759375</td>\n",
       "      <td>0.482087</td>\n",
       "      <td>...</td>\n",
       "      <td>0.226863</td>\n",
       "      <td>-0.303173</td>\n",
       "      <td>-0.478619</td>\n",
       "      <td>-0.429630</td>\n",
       "      <td>-0.486592</td>\n",
       "      <td>-0.449718</td>\n",
       "      <td>-0.887021</td>\n",
       "      <td>0.971733</td>\n",
       "      <td>-2.080028</td>\n",
       "      <td>-0.026012</td>\n",
       "    </tr>\n",
       "    <tr>\n",
       "      <th>4</th>\n",
       "      <td>1.153688</td>\n",
       "      <td>1.165254</td>\n",
       "      <td>0.196922</td>\n",
       "      <td>-0.663122</td>\n",
       "      <td>-0.892119</td>\n",
       "      <td>-0.205637</td>\n",
       "      <td>-0.322458</td>\n",
       "      <td>0.567275</td>\n",
       "      <td>0.759375</td>\n",
       "      <td>0.482087</td>\n",
       "      <td>...</td>\n",
       "      <td>0.226863</td>\n",
       "      <td>-0.303173</td>\n",
       "      <td>-0.478619</td>\n",
       "      <td>-0.024926</td>\n",
       "      <td>-0.486592</td>\n",
       "      <td>-0.449718</td>\n",
       "      <td>-0.887021</td>\n",
       "      <td>0.971733</td>\n",
       "      <td>-0.051162</td>\n",
       "      <td>-0.991662</td>\n",
       "    </tr>\n",
       "  </tbody>\n",
       "</table>\n",
       "<p>5 rows × 21 columns</p>\n",
       "</div>\n",
       "    <div class=\"colab-df-buttons\">\n",
       "\n",
       "  <div class=\"colab-df-container\">\n",
       "    <button class=\"colab-df-convert\" onclick=\"convertToInteractive('df-459ba89c-3a85-4f53-a06d-b69b89cb9531')\"\n",
       "            title=\"Convert this dataframe to an interactive table.\"\n",
       "            style=\"display:none;\">\n",
       "\n",
       "  <svg xmlns=\"http://www.w3.org/2000/svg\" height=\"24px\" viewBox=\"0 -960 960 960\">\n",
       "    <path d=\"M120-120v-720h720v720H120Zm60-500h600v-160H180v160Zm220 220h160v-160H400v160Zm0 220h160v-160H400v160ZM180-400h160v-160H180v160Zm440 0h160v-160H620v160ZM180-180h160v-160H180v160Zm440 0h160v-160H620v160Z\"/>\n",
       "  </svg>\n",
       "    </button>\n",
       "\n",
       "  <style>\n",
       "    .colab-df-container {\n",
       "      display:flex;\n",
       "      gap: 12px;\n",
       "    }\n",
       "\n",
       "    .colab-df-convert {\n",
       "      background-color: #E8F0FE;\n",
       "      border: none;\n",
       "      border-radius: 50%;\n",
       "      cursor: pointer;\n",
       "      display: none;\n",
       "      fill: #1967D2;\n",
       "      height: 32px;\n",
       "      padding: 0 0 0 0;\n",
       "      width: 32px;\n",
       "    }\n",
       "\n",
       "    .colab-df-convert:hover {\n",
       "      background-color: #E2EBFA;\n",
       "      box-shadow: 0px 1px 2px rgba(60, 64, 67, 0.3), 0px 1px 3px 1px rgba(60, 64, 67, 0.15);\n",
       "      fill: #174EA6;\n",
       "    }\n",
       "\n",
       "    .colab-df-buttons div {\n",
       "      margin-bottom: 4px;\n",
       "    }\n",
       "\n",
       "    [theme=dark] .colab-df-convert {\n",
       "      background-color: #3B4455;\n",
       "      fill: #D2E3FC;\n",
       "    }\n",
       "\n",
       "    [theme=dark] .colab-df-convert:hover {\n",
       "      background-color: #434B5C;\n",
       "      box-shadow: 0px 1px 3px 1px rgba(0, 0, 0, 0.15);\n",
       "      filter: drop-shadow(0px 1px 2px rgba(0, 0, 0, 0.3));\n",
       "      fill: #FFFFFF;\n",
       "    }\n",
       "  </style>\n",
       "\n",
       "    <script>\n",
       "      const buttonEl =\n",
       "        document.querySelector('#df-459ba89c-3a85-4f53-a06d-b69b89cb9531 button.colab-df-convert');\n",
       "      buttonEl.style.display =\n",
       "        google.colab.kernel.accessAllowed ? 'block' : 'none';\n",
       "\n",
       "      async function convertToInteractive(key) {\n",
       "        const element = document.querySelector('#df-459ba89c-3a85-4f53-a06d-b69b89cb9531');\n",
       "        const dataTable =\n",
       "          await google.colab.kernel.invokeFunction('convertToInteractive',\n",
       "                                                    [key], {});\n",
       "        if (!dataTable) return;\n",
       "\n",
       "        const docLinkHtml = 'Like what you see? Visit the ' +\n",
       "          '<a target=\"_blank\" href=https://colab.research.google.com/notebooks/data_table.ipynb>data table notebook</a>'\n",
       "          + ' to learn more about interactive tables.';\n",
       "        element.innerHTML = '';\n",
       "        dataTable['output_type'] = 'display_data';\n",
       "        await google.colab.output.renderOutput(dataTable, element);\n",
       "        const docLink = document.createElement('div');\n",
       "        docLink.innerHTML = docLinkHtml;\n",
       "        element.appendChild(docLink);\n",
       "      }\n",
       "    </script>\n",
       "  </div>\n",
       "\n",
       "\n",
       "<div id=\"df-cba57f37-7c58-4c7b-aa7c-7af5e84d27bd\">\n",
       "  <button class=\"colab-df-quickchart\" onclick=\"quickchart('df-cba57f37-7c58-4c7b-aa7c-7af5e84d27bd')\"\n",
       "            title=\"Suggest charts\"\n",
       "            style=\"display:none;\">\n",
       "\n",
       "<svg xmlns=\"http://www.w3.org/2000/svg\" height=\"24px\"viewBox=\"0 0 24 24\"\n",
       "     width=\"24px\">\n",
       "    <g>\n",
       "        <path d=\"M19 3H5c-1.1 0-2 .9-2 2v14c0 1.1.9 2 2 2h14c1.1 0 2-.9 2-2V5c0-1.1-.9-2-2-2zM9 17H7v-7h2v7zm4 0h-2V7h2v10zm4 0h-2v-4h2v4z\"/>\n",
       "    </g>\n",
       "</svg>\n",
       "  </button>\n",
       "\n",
       "<style>\n",
       "  .colab-df-quickchart {\n",
       "      --bg-color: #E8F0FE;\n",
       "      --fill-color: #1967D2;\n",
       "      --hover-bg-color: #E2EBFA;\n",
       "      --hover-fill-color: #174EA6;\n",
       "      --disabled-fill-color: #AAA;\n",
       "      --disabled-bg-color: #DDD;\n",
       "  }\n",
       "\n",
       "  [theme=dark] .colab-df-quickchart {\n",
       "      --bg-color: #3B4455;\n",
       "      --fill-color: #D2E3FC;\n",
       "      --hover-bg-color: #434B5C;\n",
       "      --hover-fill-color: #FFFFFF;\n",
       "      --disabled-bg-color: #3B4455;\n",
       "      --disabled-fill-color: #666;\n",
       "  }\n",
       "\n",
       "  .colab-df-quickchart {\n",
       "    background-color: var(--bg-color);\n",
       "    border: none;\n",
       "    border-radius: 50%;\n",
       "    cursor: pointer;\n",
       "    display: none;\n",
       "    fill: var(--fill-color);\n",
       "    height: 32px;\n",
       "    padding: 0;\n",
       "    width: 32px;\n",
       "  }\n",
       "\n",
       "  .colab-df-quickchart:hover {\n",
       "    background-color: var(--hover-bg-color);\n",
       "    box-shadow: 0 1px 2px rgba(60, 64, 67, 0.3), 0 1px 3px 1px rgba(60, 64, 67, 0.15);\n",
       "    fill: var(--button-hover-fill-color);\n",
       "  }\n",
       "\n",
       "  .colab-df-quickchart-complete:disabled,\n",
       "  .colab-df-quickchart-complete:disabled:hover {\n",
       "    background-color: var(--disabled-bg-color);\n",
       "    fill: var(--disabled-fill-color);\n",
       "    box-shadow: none;\n",
       "  }\n",
       "\n",
       "  .colab-df-spinner {\n",
       "    border: 2px solid var(--fill-color);\n",
       "    border-color: transparent;\n",
       "    border-bottom-color: var(--fill-color);\n",
       "    animation:\n",
       "      spin 1s steps(1) infinite;\n",
       "  }\n",
       "\n",
       "  @keyframes spin {\n",
       "    0% {\n",
       "      border-color: transparent;\n",
       "      border-bottom-color: var(--fill-color);\n",
       "      border-left-color: var(--fill-color);\n",
       "    }\n",
       "    20% {\n",
       "      border-color: transparent;\n",
       "      border-left-color: var(--fill-color);\n",
       "      border-top-color: var(--fill-color);\n",
       "    }\n",
       "    30% {\n",
       "      border-color: transparent;\n",
       "      border-left-color: var(--fill-color);\n",
       "      border-top-color: var(--fill-color);\n",
       "      border-right-color: var(--fill-color);\n",
       "    }\n",
       "    40% {\n",
       "      border-color: transparent;\n",
       "      border-right-color: var(--fill-color);\n",
       "      border-top-color: var(--fill-color);\n",
       "    }\n",
       "    60% {\n",
       "      border-color: transparent;\n",
       "      border-right-color: var(--fill-color);\n",
       "    }\n",
       "    80% {\n",
       "      border-color: transparent;\n",
       "      border-right-color: var(--fill-color);\n",
       "      border-bottom-color: var(--fill-color);\n",
       "    }\n",
       "    90% {\n",
       "      border-color: transparent;\n",
       "      border-bottom-color: var(--fill-color);\n",
       "    }\n",
       "  }\n",
       "</style>\n",
       "\n",
       "  <script>\n",
       "    async function quickchart(key) {\n",
       "      const quickchartButtonEl =\n",
       "        document.querySelector('#' + key + ' button');\n",
       "      quickchartButtonEl.disabled = true;  // To prevent multiple clicks.\n",
       "      quickchartButtonEl.classList.add('colab-df-spinner');\n",
       "      try {\n",
       "        const charts = await google.colab.kernel.invokeFunction(\n",
       "            'suggestCharts', [key], {});\n",
       "      } catch (error) {\n",
       "        console.error('Error during call to suggestCharts:', error);\n",
       "      }\n",
       "      quickchartButtonEl.classList.remove('colab-df-spinner');\n",
       "      quickchartButtonEl.classList.add('colab-df-quickchart-complete');\n",
       "    }\n",
       "    (() => {\n",
       "      let quickchartButtonEl =\n",
       "        document.querySelector('#df-cba57f37-7c58-4c7b-aa7c-7af5e84d27bd button');\n",
       "      quickchartButtonEl.style.display =\n",
       "        google.colab.kernel.accessAllowed ? 'block' : 'none';\n",
       "    })();\n",
       "  </script>\n",
       "</div>\n",
       "\n",
       "    </div>\n",
       "  </div>\n"
      ],
      "text/plain": [
       "     HighBP  HighChol  CholCheck       BMI    Smoker    Stroke  \\\n",
       "0  1.153688  1.165254   0.196922  1.757936  1.120927 -0.205637   \n",
       "1 -0.866785 -0.858182  -5.078164 -0.511806  1.120927 -0.205637   \n",
       "2  1.153688  1.165254   0.196922 -0.057858 -0.892119 -0.205637   \n",
       "3  1.153688 -0.858182   0.196922 -0.209174 -0.892119 -0.205637   \n",
       "4  1.153688  1.165254   0.196922 -0.663122 -0.892119 -0.205637   \n",
       "\n",
       "   HeartDiseaseorAttack  PhysActivity    Fruits   Veggies  ...  AnyHealthcare  \\\n",
       "0             -0.322458     -1.762814 -1.316872  0.482087  ...       0.226863   \n",
       "1             -0.322458      0.567275 -1.316872 -2.074316  ...      -4.407954   \n",
       "2             -0.322458     -1.762814  0.759375 -2.074316  ...       0.226863   \n",
       "3             -0.322458      0.567275  0.759375  0.482087  ...       0.226863   \n",
       "4             -0.322458      0.567275  0.759375  0.482087  ...       0.226863   \n",
       "\n",
       "   NoDocbcCost   GenHlth  MentHlth  PhysHlth  DiffWalk       Sex       Age  \\\n",
       "0    -0.303173  2.329121  1.998592  1.233999  2.223615 -0.887021  0.316900   \n",
       "1     3.298445  0.457294 -0.429630 -0.486592 -0.449718 -0.887021 -0.337933   \n",
       "2     3.298445  2.329121  3.617407  2.954590  2.223615 -0.887021  0.316900   \n",
       "3    -0.303173 -0.478619 -0.429630 -0.486592 -0.449718 -0.887021  0.971733   \n",
       "4    -0.303173 -0.478619 -0.024926 -0.486592 -0.449718 -0.887021  0.971733   \n",
       "\n",
       "   Education    Income  \n",
       "0  -1.065595 -1.474487  \n",
       "1   0.963272 -2.440138  \n",
       "2  -1.065595  0.939638  \n",
       "3  -2.080028 -0.026012  \n",
       "4  -0.051162 -0.991662  \n",
       "\n",
       "[5 rows x 21 columns]"
      ]
     },
     "execution_count": 10,
     "metadata": {},
     "output_type": "execute_result"
    }
   ],
   "source": [
    "#Cap extreme values for BMI and Cholesterol Levels to handle outliers.\n",
    "# Impute any missing values if found.\n",
    "\n",
    "# Cap extreme values for BMI and Cholesterol Levels\n",
    "bmi_cap = X_processed['BMI'].quantile(0.99)\n",
    "chol_cap = X_processed['CholCheck'].quantile(0.99)\n",
    "\n",
    "X_processed['BMI'] = X_processed['BMI'].clip(upper=bmi_cap)\n",
    "X_processed['CholCheck'] = X_processed['CholCheck'].clip(upper=chol_cap)\n",
    "\n",
    "# Impute missing values (if any)\n",
    "X_processed = X_processed.fillna(X_processed.mean())\n",
    "\n",
    "X_processed.head()"
   ]
  },
  {
   "cell_type": "markdown",
   "id": "5SS3lD0sGPGe",
   "metadata": {
    "id": "5SS3lD0sGPGe"
   },
   "source": [
    "# 6. **Data Splitting:**\n",
    "   - Define a methodology to split the dataset into training, validation, and testing sets.\n",
    "   - Ensure randomness and representativeness in each subset.\n",
    "\n",
    "     **This dataset has a python library that make it easy to import and split them**\n",
    "\n",
    "      70% training, 15% validation, 15% tes\n",
    "\n",
    "# 7. **Bias Mitigation:**\n",
    "   - Implement techniques to identify and mitigate biases in the dataset.\n",
    "   - Ensure fairness and equity in data representation.\n",
    "   \n",
    "   \n",
    "  **Techniques:**\n",
    "  * Applied SMOTE to address any class imbalance.\n",
    "  * Ensure diverse representation across demographic groups in training data.\n"
   ]
  },
  {
   "cell_type": "code",
   "execution_count": null,
   "id": "m6aCh0suNkl2",
   "metadata": {
    "colab": {
     "base_uri": "https://localhost:8080/"
    },
    "id": "m6aCh0suNkl2",
    "outputId": "a7c7598f-8592-47e3-fc08-7fe0f6d92e65"
   },
   "outputs": [
    {
     "name": "stdout",
     "output_type": "stream",
     "text": [
      "          HighBP  HighChol  CholCheck       BMI    Smoker    Stroke  \\\n",
      "0       1.153688  1.165254   0.196922  1.757936  1.120927 -0.205637   \n",
      "1      -0.866785 -0.858182  -5.078164 -0.511806  1.120927 -0.205637   \n",
      "2       1.153688  1.165254   0.196922 -0.057858 -0.892119 -0.205637   \n",
      "3       1.153688 -0.858182   0.196922 -0.209174 -0.892119 -0.205637   \n",
      "4       1.153688  1.165254   0.196922 -0.663122 -0.892119 -0.205637   \n",
      "...          ...       ...        ...       ...       ...       ...   \n",
      "436663 -0.866785 -0.858182   0.196922  1.787548 -0.892119 -0.205637   \n",
      "436664  1.153688  1.165254   0.196922 -0.479749 -0.892119 -0.205637   \n",
      "436665  1.153688  1.165254   0.196922  1.001355 -0.892119 -0.205637   \n",
      "436666  1.153688 -0.858182   0.196922  0.553446 -0.892119 -0.205637   \n",
      "436667  1.153688  1.165254   0.196922  1.867070 -0.892119 -0.205637   \n",
      "\n",
      "        HeartDiseaseorAttack  PhysActivity    Fruits   Veggies  ...  \\\n",
      "0                  -0.322458     -1.762814 -1.316872  0.482087  ...   \n",
      "1                  -0.322458      0.567275 -1.316872 -2.074316  ...   \n",
      "2                  -0.322458     -1.762814  0.759375 -2.074316  ...   \n",
      "3                  -0.322458      0.567275  0.759375  0.482087  ...   \n",
      "4                  -0.322458      0.567275  0.759375  0.482087  ...   \n",
      "...                      ...           ...       ...       ...  ...   \n",
      "436663             -0.322458      0.567275 -1.316872  0.482087  ...   \n",
      "436664             -0.322458      0.567275  0.759375  0.482087  ...   \n",
      "436665             -0.322458     -1.762814  0.759375  0.482087  ...   \n",
      "436666             -0.322458      0.567275  0.759375 -2.074316  ...   \n",
      "436667             -0.322458      0.567275  0.759375  0.482087  ...   \n",
      "\n",
      "        AnyHealthcare  NoDocbcCost   GenHlth  MentHlth  PhysHlth  DiffWalk  \\\n",
      "0            0.226863    -0.303173  2.329121  1.998592  1.233999  2.223615   \n",
      "1           -4.407954     3.298445  0.457294 -0.429630 -0.486592 -0.449718   \n",
      "2            0.226863     3.298445  2.329121  3.617407  2.954590  2.223615   \n",
      "3            0.226863    -0.303173 -0.478619 -0.429630 -0.486592 -0.449718   \n",
      "4            0.226863    -0.303173 -0.478619 -0.024926 -0.486592 -0.449718   \n",
      "...               ...          ...       ...       ...       ...       ...   \n",
      "436663       0.226863     3.298445  1.016830  1.346135  0.291436 -0.449718   \n",
      "436664       0.226863    -0.303173 -0.478619 -0.429630 -0.486592 -0.449718   \n",
      "436665       0.226863    -0.303173  0.075554 -0.154512 -0.393020 -0.449718   \n",
      "436666       0.226863    -0.303173  0.457294 -0.429630 -0.454543 -0.449718   \n",
      "436667       0.226863    -0.303173  0.457294 -0.096640  0.767924 -0.449718   \n",
      "\n",
      "             Sex       Age  Education    Income  \n",
      "0      -0.887021  0.316900  -1.065595 -1.474487  \n",
      "1      -0.887021 -0.337933   0.963272 -2.440138  \n",
      "2      -0.887021  0.316900  -1.065595  0.939638  \n",
      "3      -0.887021  0.971733  -2.080028 -0.026012  \n",
      "4      -0.887021  0.971733  -0.051162 -0.991662  \n",
      "...          ...       ...        ...       ...  \n",
      "436663 -0.887021 -0.469603   0.356793  0.262645  \n",
      "436664 -0.887021 -0.630667   0.963272  0.939638  \n",
      "436665 -0.887021  0.644317  -1.065595 -0.026012  \n",
      "436666  1.127369  0.650851  -1.085840 -0.045284  \n",
      "436667 -0.887021  0.316900  -0.051162 -0.539356  \n",
      "\n",
      "[436668 rows x 21 columns]\n"
     ]
    }
   ],
   "source": [
    "# Bias Mitigation:\n",
    "# Techniques:\n",
    "# Apply SMOTE to address any class imbalance.\n",
    "# Ensure diverse representation across demographic groups in training data.\n",
    "\n",
    "from imblearn.over_sampling import SMOTE\n",
    "\n",
    "# Apply SMOTE to address class imbalance\n",
    "smote = SMOTE(random_state=42)\n",
    "X_resampled, y_resampled = smote.fit_resample(X_processed, y_df['Diabetes_binary'])\n",
    "\n",
    "# Verify class distribution after SMOTE\n",
    "print(X_resampled)\n"
   ]
  },
  {
   "cell_type": "code",
   "execution_count": null,
   "id": "CJRNSb2xHVCy",
   "metadata": {
    "colab": {
     "base_uri": "https://localhost:8080/"
    },
    "id": "CJRNSb2xHVCy",
    "outputId": "c52b6884-0b93-4df0-d28a-728da52d34c4"
   },
   "outputs": [
    {
     "name": "stdout",
     "output_type": "stream",
     "text": [
      "Diabetes_binary\n",
      "1    2536\n",
      "0    2464\n",
      "Name: count, dtype: int64\n",
      "HighBP     HighChol   CholCheck  BMI        Smoker     Stroke     HeartDiseaseorAttack  PhysActivity  Fruits     Veggies    HvyAlcoholConsump  AnyHealthcare  NoDocbcCost  GenHlth    MentHlth   PhysHlth   DiffWalk   Sex        Age        Education  Income   \n",
      " 1.153688   1.165254  0.196922   -0.360490   1.120927  -0.205637   3.101183              0.567275      0.759375   0.482087  -0.244014           0.226863      -0.303173    -0.478619  -0.429630  -0.486592  -0.449718   1.127369   0.644317   0.963272  -0.026012    2\n",
      "           -0.858182  0.196922   -0.663122   1.120927  -0.205637  -0.322458              0.567275      0.759375   0.482087  -0.244014           0.226863      -0.303173    -0.478619  -0.429630  -0.486592  -0.449718  -0.887021   0.644317   0.963272   0.939638    2\n",
      "-0.866785  -0.858182  0.196922   -0.511806  -0.892119  -0.205637  -0.322458              0.567275      0.759375   0.482087  -0.244014           0.226863      -0.303173    -1.414532  -0.429630  -0.486592  -0.449718  -0.887021  -0.665349   0.963272   0.939638    2\n",
      "                                 -1.268387  -0.892119  -0.205637  -0.322458              0.567275      0.759375   0.482087  -0.244014           0.226863      -0.303173    -1.414532  -0.429630  -0.486592  -0.449718  -0.887021  -0.010516   0.963272   0.939638    2\n",
      "                                 -0.209174  -0.892119  -0.205637  -0.322458              0.567275      0.759375   0.482087  -0.244014           0.226863      -0.303173    -1.414532  -0.429630  -0.486592  -0.449718   1.127369  -1.320182   0.963272   0.939638    2\n",
      "                                                                                                                                                                                                                                                                    ..\n",
      "            1.165254  0.196922   -0.343353   1.120927  -0.205637  -0.322458             -1.762814     -1.316872   0.482087  -0.244014           0.226863      -0.303173     0.457294  -0.429630  -0.486592   2.223615   1.127369   0.171732  -1.253814  -1.778144    1\n",
      "                                 -0.345016  -0.892119  -0.205637  -0.322458              0.567275      0.759375   0.482087  -0.244014          -4.407954       3.298445     1.297499  -0.090851   0.360676  -0.449718  -0.887021  -0.598385  -0.961857  -1.523862    1\n",
      "                                 -0.347584   1.120927  -0.205637   3.101183              0.567275      0.759375   0.482087  -0.244014           0.226863      -0.303173     1.901077  -0.429630   1.233999   2.223615   1.127369   0.644317   0.412793   0.939638    1\n",
      "                                 -0.360490   1.120927   4.862949   3.101183              0.567275     -1.316872  -2.074316  -0.244014           0.226863      -0.303173     0.457294  -0.429630   1.233999   2.223615  -0.887021   0.644317  -0.051162  -0.991662    1\n",
      " 1.153688   1.165254  0.196922    3.271097   1.120927  -0.205637   3.101183             -1.762814     -1.316872   0.482087  -0.244014           0.226863      -0.303173     2.329121   1.593889   2.954590   2.223615   1.127369  -0.665349  -2.080028  -2.440138    1\n",
      "Name: count, Length: 4988, dtype: int64\n"
     ]
    }
   ],
   "source": [
    "from sklearn.utils import shuffle\n",
    "# Shuffle the data\n",
    "X_resampled, y_resampled = shuffle(X_resampled, y_resampled, random_state=42)\n",
    "\n",
    "# Sample the data\n",
    "sample_size = 5000  # Adjust the sample size as needed\n",
    "X_sampled = X_resampled.sample(n=sample_size, random_state=42)\n",
    "y_sampled = y_resampled.loc[X_sampled.index]\n",
    "\n",
    "# Verify the distribution of the target variable in the sampled data\n",
    "print(y_sampled.value_counts())\n",
    "print(X_sampled.value_counts())"
   ]
  },
  {
   "cell_type": "markdown",
   "id": "MN5Ob0XdKdX4",
   "metadata": {
    "id": "MN5Ob0XdKdX4"
   },
   "source": [
    "# Building Simple model"
   ]
  },
  {
   "cell_type": "code",
   "execution_count": null,
   "id": "92T_smqWJhz2",
   "metadata": {
    "id": "92T_smqWJhz2"
   },
   "outputs": [],
   "source": [
    "import pandas as pd\n",
    "from sklearn.model_selection import train_test_split\n",
    "import tensorflow as tf\n",
    "from tensorflow.keras.models import Sequential\n",
    "from tensorflow.keras.layers import Dense\n",
    "import matplotlib.pyplot as plt\n",
    "\n",
    "# Assuming X_sampled and y_sampled are already defined and processed (encoded and standardized)\n",
    "\n",
    "# Split the data into training and testing sets\n",
    "X_train, X_test, y_train, y_test = train_test_split(X_sampled, y_sampled, test_size=0.2, random_state=42)\n",
    "\n",
    "# Build the TensorFlow model\n",
    "model = Sequential()\n",
    "model.add(Dense(64, activation='relu', input_shape=(X_train.shape[1],)))\n",
    "model.add(Dense(32, activation='relu'))\n",
    "model.add(Dense(1, activation='sigmoid'))\n",
    "\n",
    "# Compile the model\n",
    "model.compile(optimizer='adam', loss='binary_crossentropy', metrics=['accuracy'])\n",
    "\n"
   ]
  },
  {
   "cell_type": "code",
   "execution_count": null,
   "id": "mZmrBkUVJm2K",
   "metadata": {
    "colab": {
     "base_uri": "https://localhost:8080/"
    },
    "id": "mZmrBkUVJm2K",
    "outputId": "60df8399-0a3e-4fc6-dbf0-f37c03d12e7c"
   },
   "outputs": [
    {
     "name": "stdout",
     "output_type": "stream",
     "text": [
      "Epoch 1/50\n",
      "125/125 [==============================] - 1s 4ms/step - loss: 0.5637 - accuracy: 0.7100 - val_loss: 0.4984 - val_accuracy: 0.7540\n",
      "Epoch 2/50\n",
      "125/125 [==============================] - 0s 2ms/step - loss: 0.5085 - accuracy: 0.7542 - val_loss: 0.4930 - val_accuracy: 0.7600\n",
      "Epoch 3/50\n",
      "125/125 [==============================] - 0s 2ms/step - loss: 0.4976 - accuracy: 0.7575 - val_loss: 0.4930 - val_accuracy: 0.7590\n",
      "Epoch 4/50\n",
      "125/125 [==============================] - 0s 2ms/step - loss: 0.4898 - accuracy: 0.7630 - val_loss: 0.4935 - val_accuracy: 0.7560\n",
      "Epoch 5/50\n",
      "125/125 [==============================] - 0s 2ms/step - loss: 0.4834 - accuracy: 0.7692 - val_loss: 0.4928 - val_accuracy: 0.7600\n",
      "Epoch 6/50\n",
      "125/125 [==============================] - 0s 2ms/step - loss: 0.4783 - accuracy: 0.7695 - val_loss: 0.4922 - val_accuracy: 0.7590\n",
      "Epoch 7/50\n",
      "125/125 [==============================] - 0s 2ms/step - loss: 0.4743 - accuracy: 0.7745 - val_loss: 0.4880 - val_accuracy: 0.7650\n",
      "Epoch 8/50\n",
      "125/125 [==============================] - 0s 3ms/step - loss: 0.4686 - accuracy: 0.7763 - val_loss: 0.4935 - val_accuracy: 0.7630\n",
      "Epoch 9/50\n",
      "125/125 [==============================] - 0s 2ms/step - loss: 0.4630 - accuracy: 0.7832 - val_loss: 0.4957 - val_accuracy: 0.7620\n",
      "Epoch 10/50\n",
      "125/125 [==============================] - 0s 3ms/step - loss: 0.4593 - accuracy: 0.7832 - val_loss: 0.5010 - val_accuracy: 0.7600\n",
      "Epoch 11/50\n",
      "125/125 [==============================] - 0s 3ms/step - loss: 0.4542 - accuracy: 0.7878 - val_loss: 0.4906 - val_accuracy: 0.7620\n",
      "Epoch 12/50\n",
      "125/125 [==============================] - 0s 2ms/step - loss: 0.4489 - accuracy: 0.7915 - val_loss: 0.5068 - val_accuracy: 0.7540\n",
      "Epoch 13/50\n",
      "125/125 [==============================] - 0s 2ms/step - loss: 0.4453 - accuracy: 0.7947 - val_loss: 0.4996 - val_accuracy: 0.7580\n",
      "Epoch 14/50\n",
      "125/125 [==============================] - 0s 3ms/step - loss: 0.4413 - accuracy: 0.7958 - val_loss: 0.5068 - val_accuracy: 0.7590\n",
      "Epoch 15/50\n",
      "125/125 [==============================] - 0s 2ms/step - loss: 0.4379 - accuracy: 0.7993 - val_loss: 0.5053 - val_accuracy: 0.7590\n",
      "Epoch 16/50\n",
      "125/125 [==============================] - 0s 2ms/step - loss: 0.4332 - accuracy: 0.7985 - val_loss: 0.5136 - val_accuracy: 0.7490\n",
      "Epoch 17/50\n",
      "125/125 [==============================] - 0s 3ms/step - loss: 0.4300 - accuracy: 0.7990 - val_loss: 0.5039 - val_accuracy: 0.7580\n",
      "Epoch 18/50\n",
      "125/125 [==============================] - 0s 2ms/step - loss: 0.4254 - accuracy: 0.8030 - val_loss: 0.5096 - val_accuracy: 0.7600\n",
      "Epoch 19/50\n",
      "125/125 [==============================] - 0s 2ms/step - loss: 0.4227 - accuracy: 0.8073 - val_loss: 0.5096 - val_accuracy: 0.7510\n",
      "Epoch 20/50\n",
      "125/125 [==============================] - 0s 3ms/step - loss: 0.4182 - accuracy: 0.8058 - val_loss: 0.5145 - val_accuracy: 0.7580\n",
      "Epoch 21/50\n",
      "125/125 [==============================] - 0s 2ms/step - loss: 0.4129 - accuracy: 0.8110 - val_loss: 0.5089 - val_accuracy: 0.7580\n",
      "Epoch 22/50\n",
      "125/125 [==============================] - 0s 2ms/step - loss: 0.4104 - accuracy: 0.8117 - val_loss: 0.5187 - val_accuracy: 0.7680\n",
      "Epoch 23/50\n",
      "125/125 [==============================] - 0s 2ms/step - loss: 0.4068 - accuracy: 0.8173 - val_loss: 0.5155 - val_accuracy: 0.7620\n",
      "Epoch 24/50\n",
      "125/125 [==============================] - 0s 3ms/step - loss: 0.4019 - accuracy: 0.8198 - val_loss: 0.5330 - val_accuracy: 0.7380\n",
      "Epoch 25/50\n",
      "125/125 [==============================] - 0s 3ms/step - loss: 0.3979 - accuracy: 0.8200 - val_loss: 0.5294 - val_accuracy: 0.7580\n",
      "Epoch 26/50\n",
      "125/125 [==============================] - 0s 3ms/step - loss: 0.3954 - accuracy: 0.8213 - val_loss: 0.5265 - val_accuracy: 0.7520\n",
      "Epoch 27/50\n",
      "125/125 [==============================] - 0s 4ms/step - loss: 0.3910 - accuracy: 0.8225 - val_loss: 0.5292 - val_accuracy: 0.7470\n",
      "Epoch 28/50\n",
      "125/125 [==============================] - 1s 5ms/step - loss: 0.3889 - accuracy: 0.8255 - val_loss: 0.5365 - val_accuracy: 0.7460\n",
      "Epoch 29/50\n",
      "125/125 [==============================] - 1s 4ms/step - loss: 0.3820 - accuracy: 0.8248 - val_loss: 0.5490 - val_accuracy: 0.7320\n",
      "Epoch 30/50\n",
      "125/125 [==============================] - 1s 4ms/step - loss: 0.3825 - accuracy: 0.8248 - val_loss: 0.5333 - val_accuracy: 0.7410\n",
      "Epoch 31/50\n",
      "125/125 [==============================] - 0s 3ms/step - loss: 0.3753 - accuracy: 0.8338 - val_loss: 0.5411 - val_accuracy: 0.7450\n",
      "Epoch 32/50\n",
      "125/125 [==============================] - 0s 3ms/step - loss: 0.3733 - accuracy: 0.8305 - val_loss: 0.5487 - val_accuracy: 0.7450\n",
      "Epoch 33/50\n",
      "125/125 [==============================] - 0s 2ms/step - loss: 0.3687 - accuracy: 0.8322 - val_loss: 0.5537 - val_accuracy: 0.7460\n",
      "Epoch 34/50\n",
      "125/125 [==============================] - 0s 2ms/step - loss: 0.3661 - accuracy: 0.8370 - val_loss: 0.5505 - val_accuracy: 0.7380\n",
      "Epoch 35/50\n",
      "125/125 [==============================] - 0s 2ms/step - loss: 0.3611 - accuracy: 0.8420 - val_loss: 0.5518 - val_accuracy: 0.7380\n",
      "Epoch 36/50\n",
      "125/125 [==============================] - 0s 2ms/step - loss: 0.3554 - accuracy: 0.8438 - val_loss: 0.5667 - val_accuracy: 0.7470\n",
      "Epoch 37/50\n",
      "125/125 [==============================] - 0s 2ms/step - loss: 0.3530 - accuracy: 0.8457 - val_loss: 0.5631 - val_accuracy: 0.7450\n",
      "Epoch 38/50\n",
      "125/125 [==============================] - 0s 2ms/step - loss: 0.3478 - accuracy: 0.8447 - val_loss: 0.5778 - val_accuracy: 0.7250\n",
      "Epoch 39/50\n",
      "125/125 [==============================] - 0s 2ms/step - loss: 0.3498 - accuracy: 0.8472 - val_loss: 0.5846 - val_accuracy: 0.7240\n",
      "Epoch 40/50\n",
      "125/125 [==============================] - 0s 2ms/step - loss: 0.3401 - accuracy: 0.8515 - val_loss: 0.5880 - val_accuracy: 0.7380\n",
      "Epoch 41/50\n",
      "125/125 [==============================] - 0s 2ms/step - loss: 0.3383 - accuracy: 0.8515 - val_loss: 0.5915 - val_accuracy: 0.7260\n",
      "Epoch 42/50\n",
      "125/125 [==============================] - 0s 2ms/step - loss: 0.3373 - accuracy: 0.8522 - val_loss: 0.5832 - val_accuracy: 0.7430\n",
      "Epoch 43/50\n",
      "125/125 [==============================] - 0s 2ms/step - loss: 0.3352 - accuracy: 0.8525 - val_loss: 0.5856 - val_accuracy: 0.7350\n",
      "Epoch 44/50\n",
      "125/125 [==============================] - 0s 2ms/step - loss: 0.3274 - accuracy: 0.8585 - val_loss: 0.5856 - val_accuracy: 0.7360\n",
      "Epoch 45/50\n",
      "125/125 [==============================] - 0s 3ms/step - loss: 0.3247 - accuracy: 0.8620 - val_loss: 0.5958 - val_accuracy: 0.7350\n",
      "Epoch 46/50\n",
      "125/125 [==============================] - 0s 2ms/step - loss: 0.3186 - accuracy: 0.8615 - val_loss: 0.6299 - val_accuracy: 0.7230\n",
      "Epoch 47/50\n",
      "125/125 [==============================] - 0s 3ms/step - loss: 0.3194 - accuracy: 0.8618 - val_loss: 0.6104 - val_accuracy: 0.7330\n",
      "Epoch 48/50\n",
      "125/125 [==============================] - 0s 2ms/step - loss: 0.3135 - accuracy: 0.8660 - val_loss: 0.6180 - val_accuracy: 0.7290\n",
      "Epoch 49/50\n",
      "125/125 [==============================] - 0s 2ms/step - loss: 0.3106 - accuracy: 0.8650 - val_loss: 0.6099 - val_accuracy: 0.7310\n",
      "Epoch 50/50\n",
      "125/125 [==============================] - 0s 2ms/step - loss: 0.3099 - accuracy: 0.8658 - val_loss: 0.6274 - val_accuracy: 0.7260\n"
     ]
    }
   ],
   "source": [
    "# Train the model\n",
    "history = model.fit(X_train, y_train, epochs=50, batch_size=32, validation_data=(X_test, y_test))\n",
    "\n",
    "\n"
   ]
  },
  {
   "cell_type": "code",
   "execution_count": null,
   "id": "gjfqkyLTJo7e",
   "metadata": {
    "colab": {
     "base_uri": "https://localhost:8080/"
    },
    "id": "gjfqkyLTJo7e",
    "outputId": "401914bb-264f-4ab4-c7d7-7c2a32e69a33"
   },
   "outputs": [
    {
     "name": "stdout",
     "output_type": "stream",
     "text": [
      "32/32 [==============================] - 0s 1ms/step - loss: 0.6274 - accuracy: 0.7260\n",
      "Accuracy: 72.60%\n"
     ]
    }
   ],
   "source": [
    "# Evaluate the model\n",
    "loss, accuracy = model.evaluate(X_test, y_test)\n",
    "print(f'Accuracy: {accuracy * 100:.2f}%')\n",
    "\n"
   ]
  },
  {
   "cell_type": "code",
   "execution_count": null,
   "id": "wuZhwgO7Jqu8",
   "metadata": {
    "colab": {
     "base_uri": "https://localhost:8080/",
     "height": 455
    },
    "id": "wuZhwgO7Jqu8",
    "outputId": "2c2c2928-aba1-4c94-9910-1865159759ae"
   },
   "outputs": [
    {
     "data": {
      "image/png": "[encoded data removed]",
      "text/plain": [
       "<Figure size 640x480 with 1 Axes>"
      ]
     },
     "metadata": {},
     "output_type": "display_data"
    }
   ],
   "source": [
    "# Plot the training history\n",
    "plt.plot(history.history['accuracy'], label='accuracy')\n",
    "plt.plot(history.history['val_accuracy'], label='val_accuracy')\n",
    "plt.xlabel('Epoch')\n",
    "plt.ylabel('Accuracy')\n",
    "plt.ylim([0, 1])\n",
    "plt.legend(loc='lower right')\n",
    "plt.show()\n",
    "\n"
   ]
  },
  {
   "cell_type": "code",
   "execution_count": null,
   "id": "B5tHp5jhJsv9",
   "metadata": {
    "colab": {
     "base_uri": "https://localhost:8080/",
     "height": 455
    },
    "id": "B5tHp5jhJsv9",
    "outputId": "99d3f2ba-af20-4854-c35d-74b0f2677cdb"
   },
   "outputs": [
    {
     "data": {
      "image/png": "[encoded data removed]",
      "text/plain": [
       "<Figure size 640x480 with 1 Axes>"
      ]
     },
     "metadata": {},
     "output_type": "display_data"
    }
   ],
   "source": [
    "# Plot the loss history\n",
    "plt.plot(history.history['loss'], label='loss')\n",
    "plt.plot(history.history['val_loss'], label='val_loss')\n",
    "plt.xlabel('Epoch')\n",
    "plt.ylabel('Loss')\n",
    "plt.ylim([0, 1])\n",
    "plt.legend(loc='upper right')\n",
    "plt.show()"
   ]
  },
  {
   "cell_type": "markdown",
   "id": "fhpr0ZUDKkSl",
   "metadata": {
    "id": "fhpr0ZUDKkSl"
   },
   "source": [
    "# Regularized model"
   ]
  },
  {
   "cell_type": "code",
   "execution_count": null,
   "id": "3Bvdfm5IKDYF",
   "metadata": {
    "id": "3Bvdfm5IKDYF"
   },
   "outputs": [],
   "source": [
    "import pandas as pd\n",
    "from sklearn.model_selection import train_test_split\n",
    "import tensorflow as tf\n",
    "from tensorflow.keras.models import Sequential\n",
    "from tensorflow.keras.layers import Dense, Dropout\n",
    "from tensorflow.keras.callbacks import EarlyStopping\n",
    "import matplotlib.pyplot as plt\n",
    "\n",
    "# Assuming X_sampled and y_sampled are already defined and processed (encoded and standardized)\n",
    "\n",
    "# Split the data into training and testing sets\n",
    "X_train, X_test, y_train, y_test = train_test_split(X_sampled, y_sampled, test_size=0.2, random_state=42)\n",
    "\n",
    "# Build the TensorFlow model with Dropout regularization\n",
    "model = Sequential()\n",
    "model.add(Dense(64, activation='relu', input_shape=(X_train.shape[1],)))\n",
    "model.add(Dropout(0.5))  # Dropout layer with 50% dropout rate\n",
    "model.add(Dense(32, activation='relu'))\n",
    "model.add(Dropout(0.5))  # Dropout layer with 50% dropout rate\n",
    "model.add(Dense(1, activation='sigmoid'))\n",
    "\n",
    "# Compile the model with L2 regularization\n",
    "model.compile(optimizer=tf.keras.optimizers.Adam(learning_rate=0.001),\n",
    "              loss='binary_crossentropy',\n",
    "              metrics=['accuracy'])\n",
    "\n",
    "# Use early stopping to prevent overfitting\n",
    "early_stopping = EarlyStopping(monitor='val_loss', patience=5, restore_best_weights=True)\n",
    "\n"
   ]
  },
  {
   "cell_type": "code",
   "execution_count": null,
   "id": "GCWd5R4NKxBN",
   "metadata": {
    "colab": {
     "base_uri": "https://localhost:8080/"
    },
    "id": "GCWd5R4NKxBN",
    "outputId": "5e10b0be-eabf-4cf5-802c-3a935f3a248d"
   },
   "outputs": [
    {
     "name": "stdout",
     "output_type": "stream",
     "text": [
      "Epoch 1/50\n",
      "125/125 [==============================] - 5s 11ms/step - loss: 0.6768 - accuracy: 0.6115 - val_loss: 0.5355 - val_accuracy: 0.7470\n",
      "Epoch 2/50\n",
      "125/125 [==============================] - 1s 7ms/step - loss: 0.5865 - accuracy: 0.6930 - val_loss: 0.5109 - val_accuracy: 0.7480\n",
      "Epoch 3/50\n",
      "125/125 [==============================] - 1s 6ms/step - loss: 0.5605 - accuracy: 0.7103 - val_loss: 0.5116 - val_accuracy: 0.7580\n",
      "Epoch 4/50\n",
      "125/125 [==============================] - 1s 6ms/step - loss: 0.5527 - accuracy: 0.7275 - val_loss: 0.5100 - val_accuracy: 0.7530\n",
      "Epoch 5/50\n",
      "125/125 [==============================] - 1s 6ms/step - loss: 0.5392 - accuracy: 0.7253 - val_loss: 0.5112 - val_accuracy: 0.7560\n",
      "Epoch 6/50\n",
      "125/125 [==============================] - 1s 5ms/step - loss: 0.5346 - accuracy: 0.7327 - val_loss: 0.5074 - val_accuracy: 0.7550\n",
      "Epoch 7/50\n",
      "125/125 [==============================] - 1s 7ms/step - loss: 0.5322 - accuracy: 0.7370 - val_loss: 0.5011 - val_accuracy: 0.7570\n",
      "Epoch 8/50\n",
      "125/125 [==============================] - 1s 6ms/step - loss: 0.5170 - accuracy: 0.7467 - val_loss: 0.4994 - val_accuracy: 0.7590\n",
      "Epoch 9/50\n",
      "125/125 [==============================] - 1s 11ms/step - loss: 0.5251 - accuracy: 0.7435 - val_loss: 0.5027 - val_accuracy: 0.7580\n",
      "Epoch 10/50\n",
      "125/125 [==============================] - 1s 7ms/step - loss: 0.5273 - accuracy: 0.7455 - val_loss: 0.5047 - val_accuracy: 0.7600\n",
      "Epoch 11/50\n",
      "125/125 [==============================] - 0s 4ms/step - loss: 0.5163 - accuracy: 0.7508 - val_loss: 0.5040 - val_accuracy: 0.7630\n",
      "Epoch 12/50\n",
      "125/125 [==============================] - 1s 4ms/step - loss: 0.5262 - accuracy: 0.7535 - val_loss: 0.5068 - val_accuracy: 0.7610\n",
      "Epoch 13/50\n",
      "125/125 [==============================] - 0s 4ms/step - loss: 0.5196 - accuracy: 0.7520 - val_loss: 0.5016 - val_accuracy: 0.7570\n"
     ]
    }
   ],
   "source": [
    "# Train the model\n",
    "history = model.fit(X_train, y_train, epochs=50, batch_size=32, validation_data=(X_test, y_test), callbacks=[early_stopping])\n",
    "\n"
   ]
  },
  {
   "cell_type": "code",
   "execution_count": null,
   "id": "PTJ6C-OuKyeO",
   "metadata": {
    "colab": {
     "base_uri": "https://localhost:8080/"
    },
    "id": "PTJ6C-OuKyeO",
    "outputId": "9ca2d9eb-f049-47d0-e5ba-603c71b1550c"
   },
   "outputs": [
    {
     "name": "stdout",
     "output_type": "stream",
     "text": [
      "32/32 [==============================] - 0s 2ms/step - loss: 0.4994 - accuracy: 0.7590\n",
      "Accuracy: 75.90%\n"
     ]
    }
   ],
   "source": [
    "# Evaluate the model\n",
    "loss, accuracy = model.evaluate(X_test, y_test)\n",
    "print(f'Accuracy: {accuracy * 100:.2f}%')\n",
    "\n"
   ]
  },
  {
   "cell_type": "code",
   "execution_count": null,
   "id": "GSzGQKVOKzvE",
   "metadata": {
    "colab": {
     "base_uri": "https://localhost:8080/",
     "height": 455
    },
    "id": "GSzGQKVOKzvE",
    "outputId": "7e528f89-9711-41d2-cdc0-554e7e42bb41"
   },
   "outputs": [
    {
     "data": {
      "image/png": "[encoded data removed]",
      "text/plain": [
       "<Figure size 640x480 with 1 Axes>"
      ]
     },
     "metadata": {},
     "output_type": "display_data"
    }
   ],
   "source": [
    "# Plot the training history\n",
    "plt.plot(history.history['accuracy'], label='accuracy')\n",
    "plt.plot(history.history['val_accuracy'], label='val_accuracy')\n",
    "plt.xlabel('Epoch')\n",
    "plt.ylabel('Accuracy')\n",
    "plt.ylim([0, 1])\n",
    "plt.legend(loc='lower right')\n",
    "plt.show()\n",
    "\n"
   ]
  },
  {
   "cell_type": "code",
   "execution_count": null,
   "id": "T0Lns1v2K132",
   "metadata": {
    "colab": {
     "base_uri": "https://localhost:8080/",
     "height": 455
    },
    "id": "T0Lns1v2K132",
    "outputId": "55306666-5fee-43dd-f0f6-1e2995804cc8"
   },
   "outputs": [
    {
     "data": {
      "image/png": "[encoded data removed]",
      "text/plain": [
       "<Figure size 640x480 with 1 Axes>"
      ]
     },
     "metadata": {},
     "output_type": "display_data"
    }
   ],
   "source": [
    "# Plot the loss history\n",
    "plt.plot(history.history['loss'], label='loss')\n",
    "plt.plot(history.history['val_loss'], label='val_loss')\n",
    "plt.xlabel('Epoch')\n",
    "plt.ylabel('Loss')\n",
    "plt.ylim([0, 1])\n",
    "plt.legend(loc='upper right')\n",
    "plt.show()\n"
   ]
  },
  {
   "cell_type": "markdown",
   "id": "aItat71_LKnq",
   "metadata": {
    "id": "aItat71_LKnq"
   },
   "source": [
    "# Building another model to increase accuracy as the model is balanced with lower accuracy"
   ]
  },
  {
   "cell_type": "code",
   "execution_count": null,
   "id": "kmCWLPF2K_hg",
   "metadata": {
    "id": "kmCWLPF2K_hg"
   },
   "outputs": [],
   "source": [
    "import pandas as pd\n",
    "from sklearn.model_selection import train_test_split\n",
    "import tensorflow as tf\n",
    "from tensorflow.keras.models import Sequential\n",
    "from tensorflow.keras.layers import Dense, Dropout\n",
    "from tensorflow.keras.callbacks import EarlyStopping\n",
    "import matplotlib.pyplot as plt\n",
    "\n",
    "# Assuming X_sampled and y_sampled are already defined and processed (encoded and standardized)\n",
    "\n",
    "# Split the data into training and testing sets\n",
    "X_train, X_test, y_train, y_test = train_test_split(X_sampled, y_sampled, test_size=0.2, random_state=42)\n",
    "\n",
    "# Build the TensorFlow model with increased complexity and Dropout regularization\n",
    "model = Sequential()\n",
    "model.add(Dense(128, activation='relu', input_shape=(21,)))\n",
    "model.add(Dropout(0.4))  # Dropout layer with 40% dropout rate\n",
    "model.add(Dense(64, activation='relu'))\n",
    "model.add(Dropout(0.4))  # Dropout layer with 40% dropout rate\n",
    "model.add(Dense(32, activation='relu'))\n",
    "model.add(Dropout(0.4))  # Dropout layer with 40% dropout rate\n",
    "model.add(Dense(1, activation='sigmoid'))\n",
    "\n",
    "# Compile the model with Adam optimizer\n",
    "model.compile(optimizer=tf.keras.optimizers.Adam(learning_rate=0.001),\n",
    "              loss='binary_crossentropy',\n",
    "              metrics=['accuracy'])\n",
    "\n",
    "# Use early stopping to prevent overfitting\n",
    "early_stopping = EarlyStopping(monitor='val_loss', patience=5, restore_best_weights=True)\n",
    "\n",
    "# If the dataset is imbalanced, compute class weights\n",
    "class_weights = {0: (1 / y_train.value_counts()[0]) * (len(y_train) / 2.0),\n",
    "                 1: (1 / y_train.value_counts()[1]) * (len(y_train) / 2.0)}\n",
    "\n"
   ]
  },
  {
   "cell_type": "code",
   "execution_count": null,
   "id": "nZhQwJDvLb3L",
   "metadata": {
    "colab": {
     "base_uri": "https://localhost:8080/"
    },
    "id": "nZhQwJDvLb3L",
    "outputId": "705a9aa1-58cc-4b3b-f912-e92ec5a32f06"
   },
   "outputs": [
    {
     "name": "stdout",
     "output_type": "stream",
     "text": [
      "Epoch 1/50\n",
      "125/125 [==============================] - 2s 4ms/step - loss: 0.6230 - accuracy: 0.6480 - val_loss: 0.5092 - val_accuracy: 0.7510\n",
      "Epoch 2/50\n",
      "125/125 [==============================] - 0s 3ms/step - loss: 0.5574 - accuracy: 0.7235 - val_loss: 0.5019 - val_accuracy: 0.7540\n",
      "Epoch 3/50\n",
      "125/125 [==============================] - 0s 3ms/step - loss: 0.5445 - accuracy: 0.7347 - val_loss: 0.5055 - val_accuracy: 0.7540\n",
      "Epoch 4/50\n",
      "125/125 [==============================] - 1s 5ms/step - loss: 0.5333 - accuracy: 0.7433 - val_loss: 0.4908 - val_accuracy: 0.7560\n",
      "Epoch 5/50\n",
      "125/125 [==============================] - 1s 4ms/step - loss: 0.5239 - accuracy: 0.7455 - val_loss: 0.4958 - val_accuracy: 0.7630\n",
      "Epoch 6/50\n",
      "125/125 [==============================] - 1s 6ms/step - loss: 0.5229 - accuracy: 0.7513 - val_loss: 0.5003 - val_accuracy: 0.7600\n",
      "Epoch 7/50\n",
      "125/125 [==============================] - 1s 5ms/step - loss: 0.5180 - accuracy: 0.7523 - val_loss: 0.4953 - val_accuracy: 0.7590\n",
      "Epoch 8/50\n",
      "125/125 [==============================] - 1s 6ms/step - loss: 0.5138 - accuracy: 0.7520 - val_loss: 0.4965 - val_accuracy: 0.7570\n",
      "Epoch 9/50\n",
      "125/125 [==============================] - 1s 4ms/step - loss: 0.5087 - accuracy: 0.7538 - val_loss: 0.5020 - val_accuracy: 0.7620\n"
     ]
    }
   ],
   "source": [
    "# Train the model\n",
    "history = model.fit(X_train, y_train, epochs=50, batch_size=32, validation_data=(X_test, y_test),\n",
    "                    callbacks=[early_stopping], class_weight=class_weights)\n",
    "\n"
   ]
  },
  {
   "cell_type": "code",
   "execution_count": null,
   "id": "GXd51q39LdZG",
   "metadata": {
    "colab": {
     "base_uri": "https://localhost:8080/"
    },
    "id": "GXd51q39LdZG",
    "outputId": "42069521-def6-4e2a-d2d0-d8f0f18286a0"
   },
   "outputs": [
    {
     "name": "stdout",
     "output_type": "stream",
     "text": [
      "32/32 [==============================] - 0s 2ms/step - loss: 0.4908 - accuracy: 0.7560\n",
      "Accuracy: 75.60%\n"
     ]
    }
   ],
   "source": [
    "\n",
    "# Evaluate the model\n",
    "loss, accuracy = model.evaluate(X_test, y_test)\n",
    "print(f'Accuracy: {accuracy * 100:.2f}%')\n"
   ]
  },
  {
   "cell_type": "code",
   "execution_count": null,
   "id": "85iZgP0Sh4Bc",
   "metadata": {
    "id": "85iZgP0Sh4Bc"
   },
   "outputs": [],
   "source": [
    "model.save('model.keras')"
   ]
  },
  {
   "cell_type": "code",
   "execution_count": null,
   "id": "Nb5rGC9dh92N",
   "metadata": {
    "colab": {
     "base_uri": "https://localhost:8080/"
    },
    "id": "Nb5rGC9dh92N",
    "outputId": "68e7fa47-8236-4620-a9e5-266624894481"
   },
   "outputs": [
    {
     "name": "stderr",
     "output_type": "stream",
     "text": [
      "/usr/local/lib/python3.10/dist-packages/keras/src/engine/training.py:3103: UserWarning: You are saving your model as an HDF5 file via `model.save()`. This file format is considered legacy. We recommend using instead the native Keras format, e.g. `model.save('my_model.keras')`.\n",
      "  saving_api.save_model(\n"
     ]
    }
   ],
   "source": [
    "model.save('model.h5')"
   ]
  },
  {
   "cell_type": "code",
   "execution_count": null,
   "id": "dsZ5hOL3t6I1",
   "metadata": {
    "id": "dsZ5hOL3t6I1"
   },
   "outputs": [],
   "source": [
    "n = tf.keras.models.load_model('model.h5')"
   ]
  },
  {
   "cell_type": "code",
   "execution_count": null,
   "id": "HFAOV41RuRmo",
   "metadata": {
    "colab": {
     "base_uri": "https://localhost:8080/",
     "height": 36
    },
    "id": "HFAOV41RuRmo",
    "outputId": "d2f14605-cd54-48dc-d675-6f79f7afcaa6"
   },
   "outputs": [
    {
     "data": {
      "application/vnd.google.colaboratory.intrinsic+json": {
       "type": "string"
      },
      "text/plain": [
       "''"
      ]
     },
     "execution_count": 76,
     "metadata": {},
     "output_type": "execute_result"
    }
   ],
   "source": [
    "\"\""
   ]
  },
  {
   "cell_type": "code",
   "execution_count": null,
   "id": "3C7t9-AyLeiT",
   "metadata": {
    "colab": {
     "base_uri": "https://localhost:8080/",
     "height": 455
    },
    "id": "3C7t9-AyLeiT",
    "outputId": "35f0ebfc-18fa-4af7-af6c-12088f3c7b97"
   },
   "outputs": [
    {
     "data": {
      "image/png": "[encoded data removed]",
      "text/plain": [
       "<Figure size 640x480 with 1 Axes>"
      ]
     },
     "metadata": {},
     "output_type": "display_data"
    }
   ],
   "source": [
    "\n",
    "# Plot the training history\n",
    "plt.plot(history.history['accuracy'], label='accuracy')\n",
    "plt.plot(history.history['val_accuracy'], label='val_accuracy')\n",
    "plt.xlabel('Epoch')\n",
    "plt.ylabel('Accuracy')\n",
    "plt.ylim([0, 1])\n",
    "plt.legend(loc='lower right')\n",
    "plt.show()\n"
   ]
  },
  {
   "cell_type": "code",
   "execution_count": null,
   "id": "gShxbhx4LfnU",
   "metadata": {
    "colab": {
     "base_uri": "https://localhost:8080/",
     "height": 455
    },
    "id": "gShxbhx4LfnU",
    "outputId": "dc235d5b-21ee-4472-9d9b-879098acc929"
   },
   "outputs": [
    {
     "data": {
      "image/png": "[encoded data removed]",
      "text/plain": [
       "<Figure size 640x480 with 1 Axes>"
      ]
     },
     "metadata": {},
     "output_type": "display_data"
    }
   ],
   "source": [
    "\n",
    "# Plot the los|s history\n",
    "plt.plot(history.history['loss'], label='loss')\n",
    "plt.plot(history.history['val_loss'], label='val_loss')\n",
    "plt.xlabel('Epoch')\n",
    "plt.ylabel('Loss')\n",
    "plt.ylim([0, 1])\n",
    "plt.legend(loc='upper right')\n",
    "plt.show()"
   ]
  },
  {
   "cell_type": "markdown",
   "id": "_qnB9t0qMqB5",
   "metadata": {
    "id": "_qnB9t0qMqB5"
   },
   "source": [
    "# GOing further"
   ]
  },
  {
   "cell_type": "code",
   "execution_count": null,
   "id": "yAJma-2wPh1t",
   "metadata": {
    "id": "yAJma-2wPh1t"
   },
   "outputs": [],
   "source": []
  },
  {
   "cell_type": "code",
   "execution_count": null,
   "id": "-rMXPNuoLmpv",
   "metadata": {
    "id": "-rMXPNuoLmpv"
   },
   "outputs": [],
   "source": [
    "import pandas as pd\n",
    "from sklearn.model_selection import train_test_split\n",
    "import tensorflow as tf\n",
    "from tensorflow.keras.models import Sequential\n",
    "from tensorflow.keras.layers import Dense, Dropout, BatchNormalization\n",
    "from tensorflow.keras.callbacks import EarlyStopping, ReduceLROnPlateau\n",
    "import matplotlib.pyplot as plt\n",
    "\n",
    "# Assuming X_sampled and y_sampled are already defined and processed (encoded and standardized)\n",
    "\n",
    "# Split the data into training and testing sets\n",
    "X_train, X_test, y_train, y_test = train_test_split(X_sampled, y_sampled, test_size=0.2, random_state=42)\n",
    "\n",
    "# Build the TensorFlow model with increased complexity, Batch Normalization, and Dropout regularization\n",
    "model = Sequential()\n",
    "model.add(Dense(128, activation='relu', input_shape=(21,)))\n",
    "model.add(BatchNormalization())\n",
    "model.add(Dropout(0.5))\n",
    "model.add(Dense(64, activation='relu'))\n",
    "model.add(BatchNormalization())\n",
    "model.add(Dropout(0.5))\n",
    "model.add(Dense(32, activation='relu'))\n",
    "model.add(BatchNormalization())\n",
    "model.add(Dropout(0.5))\n",
    "model.add(Dense(1, activation='sigmoid'))\n",
    "\n",
    "# Compile the model with Adam optimizer\n",
    "model.compile(optimizer=tf.keras.optimizers.Adam(learning_rate=0.001),\n",
    "              loss='binary_crossentropy',\n",
    "              metrics=['accuracy'])\n",
    "\n",
    "# Use early stopping to prevent overfitting and ReduceLROnPlateau to adjust learning rate\n",
    "early_stopping = EarlyStopping(monitor='val_loss', patience=10, restore_best_weights=True)\n",
    "reduce_lr = ReduceLROnPlateau(monitor='val_loss', factor=0.2, patience=5, min_lr=0.0001)\n",
    "\n",
    "# If the dataset is imbalanced, compute class weights\n",
    "class_weights = {0: (1 / y_train.value_counts()[0]) * (len(y_train) / 2.0),\n",
    "                 1: (1 / y_train.value_counts()[1]) * (len(y_train) / 2.0)}\n",
    "\n"
   ]
  },
  {
   "cell_type": "code",
   "execution_count": null,
   "id": "ua-uO7rLPjmA",
   "metadata": {
    "colab": {
     "base_uri": "https://localhost:8080/"
    },
    "id": "ua-uO7rLPjmA",
    "outputId": "bb85dba7-0078-4eaf-cec4-e5bca222defc"
   },
   "outputs": [
    {
     "data": {
      "text/plain": [
       "21"
      ]
     },
     "execution_count": 38,
     "metadata": {},
     "output_type": "execute_result"
    }
   ],
   "source": [
    "X_train.shape[1]"
   ]
  },
  {
   "cell_type": "code",
   "execution_count": null,
   "id": "RPQCc73lMunM",
   "metadata": {
    "colab": {
     "base_uri": "https://localhost:8080/"
    },
    "id": "RPQCc73lMunM",
    "outputId": "72380dd0-ac71-478c-e47c-391b199f0f9d"
   },
   "outputs": [
    {
     "name": "stdout",
     "output_type": "stream",
     "text": [
      "Epoch 1/100\n",
      "125/125 [==============================] - 3s 6ms/step - loss: 0.8182 - accuracy: 0.6025 - val_loss: 0.5337 - val_accuracy: 0.7530 - lr: 0.0010\n",
      "Epoch 2/100\n",
      "125/125 [==============================] - 0s 4ms/step - loss: 0.6643 - accuracy: 0.6625 - val_loss: 0.5008 - val_accuracy: 0.7650 - lr: 0.0010\n",
      "Epoch 3/100\n",
      "125/125 [==============================] - 0s 4ms/step - loss: 0.6168 - accuracy: 0.6823 - val_loss: 0.4958 - val_accuracy: 0.7630 - lr: 0.0010\n",
      "Epoch 4/100\n",
      "125/125 [==============================] - 0s 4ms/step - loss: 0.6007 - accuracy: 0.6910 - val_loss: 0.4951 - val_accuracy: 0.7650 - lr: 0.0010\n",
      "Epoch 5/100\n",
      "125/125 [==============================] - 0s 4ms/step - loss: 0.5654 - accuracy: 0.7235 - val_loss: 0.4950 - val_accuracy: 0.7590 - lr: 0.0010\n",
      "Epoch 6/100\n",
      "125/125 [==============================] - 0s 3ms/step - loss: 0.5574 - accuracy: 0.7193 - val_loss: 0.4965 - val_accuracy: 0.7610 - lr: 0.0010\n",
      "Epoch 7/100\n",
      "125/125 [==============================] - 0s 4ms/step - loss: 0.5512 - accuracy: 0.7210 - val_loss: 0.4952 - val_accuracy: 0.7560 - lr: 0.0010\n",
      "Epoch 8/100\n",
      "125/125 [==============================] - 0s 3ms/step - loss: 0.5365 - accuracy: 0.7335 - val_loss: 0.4944 - val_accuracy: 0.7580 - lr: 0.0010\n",
      "Epoch 9/100\n",
      "125/125 [==============================] - 0s 3ms/step - loss: 0.5357 - accuracy: 0.7343 - val_loss: 0.4937 - val_accuracy: 0.7600 - lr: 0.0010\n",
      "Epoch 10/100\n",
      "125/125 [==============================] - 0s 3ms/step - loss: 0.5310 - accuracy: 0.7383 - val_loss: 0.4930 - val_accuracy: 0.7550 - lr: 0.0010\n",
      "Epoch 11/100\n",
      "125/125 [==============================] - 1s 4ms/step - loss: 0.5281 - accuracy: 0.7412 - val_loss: 0.4914 - val_accuracy: 0.7580 - lr: 0.0010\n",
      "Epoch 12/100\n",
      "125/125 [==============================] - 0s 3ms/step - loss: 0.5276 - accuracy: 0.7415 - val_loss: 0.4933 - val_accuracy: 0.7510 - lr: 0.0010\n",
      "Epoch 13/100\n",
      "125/125 [==============================] - 0s 4ms/step - loss: 0.5232 - accuracy: 0.7473 - val_loss: 0.4933 - val_accuracy: 0.7580 - lr: 0.0010\n",
      "Epoch 14/100\n",
      "125/125 [==============================] - 0s 3ms/step - loss: 0.5254 - accuracy: 0.7418 - val_loss: 0.4918 - val_accuracy: 0.7600 - lr: 0.0010\n",
      "Epoch 15/100\n",
      "125/125 [==============================] - 0s 4ms/step - loss: 0.5278 - accuracy: 0.7410 - val_loss: 0.4911 - val_accuracy: 0.7610 - lr: 0.0010\n",
      "Epoch 16/100\n",
      "125/125 [==============================] - 0s 3ms/step - loss: 0.5170 - accuracy: 0.7548 - val_loss: 0.4933 - val_accuracy: 0.7630 - lr: 0.0010\n",
      "Epoch 17/100\n",
      "125/125 [==============================] - 0s 3ms/step - loss: 0.5170 - accuracy: 0.7455 - val_loss: 0.4906 - val_accuracy: 0.7680 - lr: 0.0010\n",
      "Epoch 18/100\n",
      "125/125 [==============================] - 0s 3ms/step - loss: 0.5219 - accuracy: 0.7470 - val_loss: 0.4923 - val_accuracy: 0.7610 - lr: 0.0010\n",
      "Epoch 19/100\n",
      "125/125 [==============================] - 0s 3ms/step - loss: 0.5181 - accuracy: 0.7455 - val_loss: 0.4917 - val_accuracy: 0.7650 - lr: 0.0010\n",
      "Epoch 20/100\n",
      "125/125 [==============================] - 0s 3ms/step - loss: 0.5149 - accuracy: 0.7470 - val_loss: 0.4901 - val_accuracy: 0.7680 - lr: 0.0010\n",
      "Epoch 21/100\n",
      "125/125 [==============================] - 0s 3ms/step - loss: 0.5142 - accuracy: 0.7470 - val_loss: 0.4917 - val_accuracy: 0.7630 - lr: 0.0010\n",
      "Epoch 22/100\n",
      "125/125 [==============================] - 1s 4ms/step - loss: 0.5198 - accuracy: 0.7510 - val_loss: 0.4905 - val_accuracy: 0.7600 - lr: 0.0010\n",
      "Epoch 23/100\n",
      "125/125 [==============================] - 1s 5ms/step - loss: 0.5191 - accuracy: 0.7460 - val_loss: 0.4930 - val_accuracy: 0.7650 - lr: 0.0010\n",
      "Epoch 24/100\n",
      "125/125 [==============================] - 1s 5ms/step - loss: 0.5117 - accuracy: 0.7487 - val_loss: 0.4927 - val_accuracy: 0.7650 - lr: 0.0010\n",
      "Epoch 25/100\n",
      "125/125 [==============================] - 1s 5ms/step - loss: 0.5114 - accuracy: 0.7525 - val_loss: 0.4921 - val_accuracy: 0.7630 - lr: 0.0010\n",
      "Epoch 26/100\n",
      "125/125 [==============================] - 1s 5ms/step - loss: 0.5091 - accuracy: 0.7560 - val_loss: 0.4919 - val_accuracy: 0.7670 - lr: 2.0000e-04\n",
      "Epoch 27/100\n",
      "125/125 [==============================] - 1s 5ms/step - loss: 0.5121 - accuracy: 0.7508 - val_loss: 0.4916 - val_accuracy: 0.7670 - lr: 2.0000e-04\n",
      "Epoch 28/100\n",
      "125/125 [==============================] - 0s 3ms/step - loss: 0.5091 - accuracy: 0.7517 - val_loss: 0.4910 - val_accuracy: 0.7650 - lr: 2.0000e-04\n",
      "Epoch 29/100\n",
      "125/125 [==============================] - 0s 3ms/step - loss: 0.5070 - accuracy: 0.7533 - val_loss: 0.4912 - val_accuracy: 0.7650 - lr: 2.0000e-04\n",
      "Epoch 30/100\n",
      "125/125 [==============================] - 0s 4ms/step - loss: 0.5117 - accuracy: 0.7490 - val_loss: 0.4916 - val_accuracy: 0.7670 - lr: 2.0000e-04\n"
     ]
    }
   ],
   "source": [
    "# Train the model\n",
    "history = model.fit(X_train, y_train, epochs=100, batch_size=32, validation_data=(X_test, y_test),\n",
    "                    callbacks=[early_stopping, reduce_lr], class_weight=class_weights)\n",
    "\n"
   ]
  },
  {
   "cell_type": "code",
   "execution_count": null,
   "id": "gDwiAQ9_NGbZ",
   "metadata": {
    "id": "gDwiAQ9_NGbZ"
   },
   "outputs": [],
   "source": []
  },
  {
   "cell_type": "code",
   "execution_count": null,
   "id": "-Q7g-i4FMwAi",
   "metadata": {
    "colab": {
     "base_uri": "https://localhost:8080/"
    },
    "id": "-Q7g-i4FMwAi",
    "outputId": "94ea3667-e320-49ad-8404-6465d4a5cca4"
   },
   "outputs": [
    {
     "name": "stdout",
     "output_type": "stream",
     "text": [
      "32/32 [==============================] - 0s 2ms/step - loss: 0.4901 - accuracy: 0.7680\n",
      "Accuracy: 76.80%\n"
     ]
    }
   ],
   "source": [
    "# Evaluate the model\n",
    "loss, accuracy = model.evaluate(X_test, y_test)\n",
    "print(f'Accuracy: {accuracy * 100:.2f}%')\n",
    "\n"
   ]
  },
  {
   "cell_type": "code",
   "execution_count": null,
   "id": "1CLY5-p8MxP_",
   "metadata": {
    "colab": {
     "base_uri": "https://localhost:8080/",
     "height": 455
    },
    "id": "1CLY5-p8MxP_",
    "outputId": "99b1b0fe-0543-40bc-93b3-4ab7c282bafd"
   },
   "outputs": [
    {
     "data": {
      "image/png": "[encoded data removed]",
      "text/plain": [
       "<Figure size 640x480 with 1 Axes>"
      ]
     },
     "metadata": {},
     "output_type": "display_data"
    }
   ],
   "source": [
    "# Plot the training history\n",
    "plt.plot(history.history['accuracy'], label='accuracy')\n",
    "plt.plot(history.history['val_accuracy'], label='val_accuracy')\n",
    "plt.xlabel('Epoch')\n",
    "plt.ylabel('Accuracy')\n",
    "plt.ylim([0, 1])\n",
    "plt.legend(loc='lower right')\n",
    "plt.show()\n",
    "\n"
   ]
  },
  {
   "cell_type": "code",
   "execution_count": null,
   "id": "8CaEQZoBMyhz",
   "metadata": {
    "colab": {
     "base_uri": "https://localhost:8080/",
     "height": 455
    },
    "id": "8CaEQZoBMyhz",
    "outputId": "b0f64f82-88f8-44f4-e576-d04e7d0ed5fd"
   },
   "outputs": [
    {
     "data": {
      "image/png": "[encoded data removed]",
      "text/plain": [
       "<Figure size 640x480 with 1 Axes>"
      ]
     },
     "metadata": {},
     "output_type": "display_data"
    }
   ],
   "source": [
    "# Plot the loss history\n",
    "plt.plot(history.history['loss'], label='loss')\n",
    "plt.plot(history.history['val_loss'], label='val_loss')\n",
    "plt.xlabel('Epoch')\n",
    "plt.ylabel('Loss')\n",
    "plt.ylim([0, 1])\n",
    "plt.legend(loc='upper right')\n",
    "plt.show()\n"
   ]
  },
  {
   "cell_type": "code",
   "execution_count": null,
   "id": "8C_bkAwTM7Hp",
   "metadata": {
    "colab": {
     "base_uri": "https://localhost:8080/",
     "height": 740
    },
    "id": "8C_bkAwTM7Hp",
    "outputId": "efe42c79-2a0e-464a-ebec-94b7809a2617"
   },
   "outputs": [
    {
     "name": "stdout",
     "output_type": "stream",
     "text": [
      "32/32 [==============================] - 0s 1ms/step\n",
      "Classification Report:\n",
      "              precision    recall  f1-score   support\n",
      "\n",
      "           0       0.80      0.67      0.73       470\n",
      "           1       0.75      0.85      0.79       530\n",
      "\n",
      "    accuracy                           0.77      1000\n",
      "   macro avg       0.77      0.76      0.76      1000\n",
      "weighted avg       0.77      0.77      0.76      1000\n",
      "\n"
     ]
    },
    {
     "data": {
      "image/png": "[encoded data removed]",
      "text/plain": [
       "<Figure size 1000x700 with 2 Axes>"
      ]
     },
     "metadata": {},
     "output_type": "display_data"
    }
   ],
   "source": [
    "import numpy as np\n",
    "import matplotlib.pyplot as plt\n",
    "import seaborn as sns\n",
    "from sklearn.metrics import confusion_matrix, classification_report\n",
    "\n",
    "# Generate predictions on the test set\n",
    "y_pred = (model.predict(X_test) > 0.5).astype(\"int32\")\n",
    "\n",
    "# Compute the confusion matrix\n",
    "cm = confusion_matrix(y_test, y_pred)\n",
    "\n",
    "# Print classification report\n",
    "print(\"Classification Report:\")\n",
    "print(classification_report(y_test, y_pred))\n",
    "\n",
    "# Plot the confusion matrix\n",
    "plt.figure(figsize=(10, 7))\n",
    "sns.heatmap(cm, annot=True, fmt='d', cmap='Blues',\n",
    "            xticklabels=['Class 0', 'Class 1'],\n",
    "            yticklabels=['Class 0', 'Class 1'])\n",
    "plt.xlabel('Predicted Label')\n",
    "plt.ylabel('True Label')\n",
    "plt.title('Confusion Matrix')\n",
    "plt.show()\n"
   ]
  },
  {
   "cell_type": "code",
   "execution_count": null,
   "id": "HxRhITLUN_58",
   "metadata": {
    "id": "HxRhITLUN_58"
   },
   "outputs": [],
   "source": [
    "model.save('model.keras')\n"
   ]
  },
  {
   "cell_type": "code",
   "execution_count": null,
   "id": "ISa6vA0_LQWl",
   "metadata": {
    "id": "ISa6vA0_LQWl"
   },
   "outputs": [],
   "source": []
  }
 ],
 "metadata": {
  "colab": {
   "provenance": []
  },
  "kernelspec": {
   "display_name": "Python 3",
   "language": "python",
   "name": "python3"
  },
  "language_info": {
   "codemirror_mode": {
    "name": "ipython",
    "version": 3
   },
   "file_extension": ".py",
   "mimetype": "text/x-python",
   "name": "python",
   "nbconvert_exporter": "python",
   "pygments_lexer": "ipython3",
   "version": "3.9.7"
  }
 },
 "nbformat": 4,
 "nbformat_minor": 5
}
